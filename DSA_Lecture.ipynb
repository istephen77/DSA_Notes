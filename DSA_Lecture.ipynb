{
 "cells": [
  {
   "cell_type": "markdown",
   "id": "e5f459e7",
   "metadata": {},
   "source": [
    "# Array Data Structure Implementation"
   ]
  },
  {
   "cell_type": "code",
   "execution_count": 43,
   "id": "b3247caf",
   "metadata": {},
   "outputs": [],
   "source": [
    "arr = [2,1,8,9,12,15,11,19]"
   ]
  },
  {
   "cell_type": "markdown",
   "id": "c3e881f0",
   "metadata": {},
   "source": [
    "## Random Access"
   ]
  },
  {
   "cell_type": "code",
   "execution_count": 44,
   "id": "43353566",
   "metadata": {},
   "outputs": [
    {
     "data": {
      "text/plain": [
       "12"
      ]
     },
     "execution_count": 44,
     "metadata": {},
     "output_type": "execute_result"
    }
   ],
   "source": [
    "arr[4]"
   ]
  },
  {
   "cell_type": "markdown",
   "id": "85f4f2ed",
   "metadata": {},
   "source": [
    "## Search for an element \"15\" and if it is present in an array then return the index of that element. Suppose the searching element is not present in an array then return -1"
   ]
  },
  {
   "cell_type": "code",
   "execution_count": 45,
   "id": "54c6d4b8",
   "metadata": {},
   "outputs": [
    {
     "name": "stdout",
     "output_type": "stream",
     "text": [
      "Result :  5\n"
     ]
    }
   ],
   "source": [
    "## Time Complexity : O(n)\n",
    "## Space Complexity : O(1)   \n",
    "## Driver code\n",
    "arr = [2,1,8,9,12,15,11,19]\n",
    "x = 15\n",
    "def linearSearch(arr,x):\n",
    "    for i in range(len(arr)):\n",
    "        if arr[i] == x:\n",
    "            return i\n",
    "    return -1\n",
    "result = linearSearch(arr,x)\n",
    "print(\"Result : \", result)"
   ]
  },
  {
   "cell_type": "code",
   "execution_count": 46,
   "id": "03e27c89",
   "metadata": {},
   "outputs": [],
   "source": [
    "## Insert an element 5 at index 2 \n",
    "## Time Complexity : O(n)\n",
    "## Space Complexity : O(1)\n",
    "## list.insert(index, element)\n",
    "arr.insert(2,5)"
   ]
  },
  {
   "cell_type": "code",
   "execution_count": 47,
   "id": "b1386263",
   "metadata": {},
   "outputs": [
    {
     "data": {
      "text/plain": [
       "[2, 1, 5, 8, 9, 12, 15, 11, 19]"
      ]
     },
     "execution_count": 47,
     "metadata": {},
     "output_type": "execute_result"
    }
   ],
   "source": [
    "arr"
   ]
  },
  {
   "cell_type": "code",
   "execution_count": 48,
   "id": "81df13f8",
   "metadata": {},
   "outputs": [],
   "source": [
    "## Remove an element 8 from the original array\n",
    "## Time Complexity : O(n)\n",
    "## Space Complexity : O(1)\n",
    "arr.remove(8)"
   ]
  },
  {
   "cell_type": "code",
   "execution_count": 49,
   "id": "6b141875",
   "metadata": {},
   "outputs": [
    {
     "data": {
      "text/plain": [
       "[2, 1, 5, 9, 12, 15, 11, 19]"
      ]
     },
     "execution_count": 49,
     "metadata": {},
     "output_type": "execute_result"
    }
   ],
   "source": [
    "arr"
   ]
  },
  {
   "cell_type": "code",
   "execution_count": 50,
   "id": "7d5009df",
   "metadata": {},
   "outputs": [
    {
     "data": {
      "text/plain": [
       "1"
      ]
     },
     "execution_count": 50,
     "metadata": {},
     "output_type": "execute_result"
    }
   ],
   "source": [
    "## Count the frequency of an element present in the array\n",
    "arr.count(5)"
   ]
  },
  {
   "cell_type": "code",
   "execution_count": 51,
   "id": "bacbee11",
   "metadata": {},
   "outputs": [
    {
     "data": {
      "text/plain": [
       "12"
      ]
     },
     "execution_count": 51,
     "metadata": {},
     "output_type": "execute_result"
    }
   ],
   "source": [
    "## Delete an element providing the index\n",
    "arr.pop(4)"
   ]
  },
  {
   "cell_type": "code",
   "execution_count": 52,
   "id": "b811544c",
   "metadata": {},
   "outputs": [
    {
     "data": {
      "text/plain": [
       "[2, 1, 5, 9, 15, 11, 19]"
      ]
     },
     "execution_count": 52,
     "metadata": {},
     "output_type": "execute_result"
    }
   ],
   "source": [
    "arr"
   ]
  },
  {
   "cell_type": "code",
   "execution_count": 60,
   "id": "548f0070",
   "metadata": {},
   "outputs": [],
   "source": [
    "## Sort the array\n",
    "arr.sort()"
   ]
  },
  {
   "cell_type": "code",
   "execution_count": 54,
   "id": "ea703ea8",
   "metadata": {},
   "outputs": [
    {
     "data": {
      "text/plain": [
       "[1, 2, 5, 9, 11, 15, 19]"
      ]
     },
     "execution_count": 54,
     "metadata": {},
     "output_type": "execute_result"
    }
   ],
   "source": [
    "arr"
   ]
  },
  {
   "cell_type": "code",
   "execution_count": 55,
   "id": "1685dc4f",
   "metadata": {},
   "outputs": [
    {
     "data": {
      "text/plain": [
       "4"
      ]
     },
     "execution_count": 55,
     "metadata": {},
     "output_type": "execute_result"
    }
   ],
   "source": [
    "## Extract the index of an element\n",
    "arr.index(11)"
   ]
  },
  {
   "cell_type": "code",
   "execution_count": 56,
   "id": "0dc6e76e",
   "metadata": {},
   "outputs": [],
   "source": [
    "## To extend the original array\n",
    "arr.extend([2,5,7,8])"
   ]
  },
  {
   "cell_type": "code",
   "execution_count": 57,
   "id": "1b07fffe",
   "metadata": {},
   "outputs": [
    {
     "data": {
      "text/plain": [
       "[1, 2, 5, 9, 11, 15, 19, 2, 5, 7, 8]"
      ]
     },
     "execution_count": 57,
     "metadata": {},
     "output_type": "execute_result"
    }
   ],
   "source": [
    "arr"
   ]
  },
  {
   "cell_type": "code",
   "execution_count": 58,
   "id": "013b9302",
   "metadata": {},
   "outputs": [],
   "source": [
    "## To reverse the list\n",
    "arr.reverse()"
   ]
  },
  {
   "cell_type": "code",
   "execution_count": 59,
   "id": "79c21973",
   "metadata": {},
   "outputs": [
    {
     "data": {
      "text/plain": [
       "[8, 7, 5, 2, 19, 15, 11, 9, 5, 2, 1]"
      ]
     },
     "execution_count": 59,
     "metadata": {},
     "output_type": "execute_result"
    }
   ],
   "source": [
    "arr"
   ]
  },
  {
   "cell_type": "markdown",
   "id": "d5b0700a",
   "metadata": {},
   "source": [
    "# Implementation of Binary Search"
   ]
  },
  {
   "cell_type": "code",
   "execution_count": 6,
   "id": "4dbe7a69",
   "metadata": {},
   "outputs": [
    {
     "name": "stdout",
     "output_type": "stream",
     "text": [
      "Result :  6\n"
     ]
    }
   ],
   "source": [
    "# Implementation of Binary search using recursion\n",
    "# Time complexity : O(logn)\n",
    "def binarySearch(arr,x,i,j):\n",
    "    while i<=j:\n",
    "        mid = i+(j-i)//2\n",
    "        if arr[mid]==x:\n",
    "            return mid\n",
    "        elif arr[mid] < x:\n",
    "            #recursion -> calling the same function again with different set of parameter\n",
    "            return binarySearch(arr,x,mid+1,j)\n",
    "        else:\n",
    "            return binarySearch(arr,x,i,mid-1)\n",
    "    #Searching the element which is not present in the array\n",
    "    return -1\n",
    "\n",
    "#Driver Code\n",
    "# Sorted Array\n",
    "arr = [2,5,10,14,18,22,27,35,40,59]\n",
    "x = 27 \n",
    "i = 0\n",
    "j = len(arr)-1\n",
    "result = binarySearch(arr,x,i,j)\n",
    "print(\"Result : \",result)"
   ]
  },
  {
   "cell_type": "code",
   "execution_count": 69,
   "id": "0e6c0b9a",
   "metadata": {},
   "outputs": [
    {
     "name": "stdout",
     "output_type": "stream",
     "text": [
      "Result :  2\n"
     ]
    }
   ],
   "source": [
    "# Implementation of Binary search using without recursion\n",
    "# Time complexity : O(logn)\n",
    "def binarySearch(arr,x,i,j):\n",
    "    while i<=j:\n",
    "        mid = i+(j-i)//2\n",
    "        if arr[mid]==x:\n",
    "            return mid\n",
    "        elif arr[mid] < x:\n",
    "            #update the \"i\" parameter\n",
    "            i = mid + 1\n",
    "        else:\n",
    "            j = mid - 1\n",
    "    #Searching the element which is not present in the array\n",
    "    return -1\n",
    "\n",
    "#Driver Code\n",
    "# Sorted Array\n",
    "arr = [2,5,10,14,18,22,27,35,40,59]\n",
    "x = 10\n",
    "i = 0\n",
    "j = len(arr)-1\n",
    "result = binarySearch(arr,x,i,j)\n",
    "print(\"Result : \",result)"
   ]
  },
  {
   "cell_type": "markdown",
   "id": "3ceb8e7a",
   "metadata": {},
   "source": [
    "# Binary Search interview problem"
   ]
  },
  {
   "cell_type": "markdown",
   "id": "1da3f4c1",
   "metadata": {},
   "source": [
    "## array --> [20,-30,10,5,7,0,29,inf,inf,.....]\n",
    "## Position of first infinite element"
   ]
  },
  {
   "cell_type": "code",
   "execution_count": 78,
   "id": "95cc0971",
   "metadata": {},
   "outputs": [
    {
     "name": "stdout",
     "output_type": "stream",
     "text": [
      "Result :  7\n"
     ]
    }
   ],
   "source": [
    "arr = [20,-30,10,5,7,0,29,\"inf\",\"inf\"]\n",
    "x = \"inf\"\n",
    "def linearSearch(arr,x):\n",
    "    for i in range(len(arr)):\n",
    "        if arr[i] == x:\n",
    "            return i\n",
    "    return -1\n",
    "result = linearSearch(arr,x)\n",
    "print(\"Result : \",result)"
   ]
  },
  {
   "cell_type": "markdown",
   "id": "63e9f029",
   "metadata": {},
   "source": [
    "# Binary Seach 2D Interview Question"
   ]
  },
  {
   "cell_type": "code",
   "execution_count": 1,
   "id": "950bf085",
   "metadata": {},
   "outputs": [
    {
     "name": "stdout",
     "output_type": "stream",
     "text": [
      "Result :  True\n"
     ]
    }
   ],
   "source": [
    "## function definition\n",
    "def search_sortedMatrix(matrix, target):\n",
    "    ## number of rows\n",
    "    m = len(matrix)\n",
    "    if m==0:\n",
    "        return False\n",
    "    \n",
    "    ## number of columns\n",
    "    n = len(matrix[0])\n",
    "    \n",
    "    ## Binary search implementation\n",
    "    left, right = 0, m*n-1\n",
    "    while left <= right:\n",
    "        mid = left + (right-left)//2\n",
    "        ## Extracting element from 2D array\n",
    "        ## row_number = idx//n\n",
    "        ## column_number = idx%n\n",
    "        mid_element = matrix[mid//n][mid%n]\n",
    "        if target == mid_element:\n",
    "            return True\n",
    "        elif target < mid_element:\n",
    "            right = mid - 1\n",
    "        else:\n",
    "            left = mid + 1\n",
    "    return False\n",
    "    \n",
    "## Driver Code\n",
    "matrix = [[1,3,5,7],[10,11,16,20],[23,30,34,60]]\n",
    "target = 60\n",
    "## function call\n",
    "result = search_sortedMatrix(matrix, target)\n",
    "print(\"Result : \",search_sortedMatrix(matrix, target))"
   ]
  },
  {
   "cell_type": "markdown",
   "id": "49a17933",
   "metadata": {},
   "source": [
    "# Implementation of Ternary search"
   ]
  },
  {
   "cell_type": "code",
   "execution_count": 5,
   "id": "3d7f31fc",
   "metadata": {},
   "outputs": [
    {
     "name": "stdout",
     "output_type": "stream",
     "text": [
      "Result :  1\n"
     ]
    }
   ],
   "source": [
    "def ternarySearch(l,r,x,arr):\n",
    "    while l<=r:\n",
    "        mid1 = l+(r-l)//3\n",
    "        mid2 = r-(r-l)//3\n",
    "        if x == arr[mid1]:\n",
    "            return mid1\n",
    "        elif x == arr[mid2]:\n",
    "            return mid2\n",
    "        elif x < arr[mid1]:\n",
    "            return ternarySearch(l,mid1-1,x,arr)\n",
    "        elif x > arr[mid2]:\n",
    "            return ternarySearch(mid2+1,r,x,arr)\n",
    "        else:\n",
    "            return ternarySearch(mid1+1, mid2-1,x,arr)\n",
    "    return -1\n",
    "\n",
    "## Driver Code\n",
    "arr = [1,2,3,4,5,6,7,8,9,10]\n",
    "l = 0 \n",
    "r = len(arr)-1\n",
    "x = 2\n",
    "result = ternarySearch(l,r,x,arr)\n",
    "print(\"Result : \",result)"
   ]
  },
  {
   "cell_type": "markdown",
   "id": "fb394323",
   "metadata": {},
   "source": [
    "# Implementation of Bubble Sort"
   ]
  },
  {
   "cell_type": "code",
   "execution_count": 28,
   "id": "2505ef1b",
   "metadata": {},
   "outputs": [
    {
     "name": "stdout",
     "output_type": "stream",
     "text": [
      "i :  6\n",
      "nums_j :  70\n",
      "nums_j+1 : 20\n",
      "nums_j :  70\n",
      "nums_j+1 : 50\n",
      "nums_j :  70\n",
      "nums_j+1 : 30\n",
      "nums_j :  90\n",
      "nums_j+1 : 5\n",
      "nums_j :  90\n",
      "nums_j+1 : 15\n",
      "i :  5\n",
      "nums_j :  50\n",
      "nums_j+1 : 30\n",
      "nums_j :  70\n",
      "nums_j+1 : 5\n",
      "nums_j :  70\n",
      "nums_j+1 : 15\n",
      "i :  4\n",
      "nums_j :  50\n",
      "nums_j+1 : 5\n",
      "nums_j :  50\n",
      "nums_j+1 : 15\n",
      "i :  3\n",
      "nums_j :  30\n",
      "nums_j+1 : 5\n",
      "nums_j :  30\n",
      "nums_j+1 : 15\n",
      "i :  2\n",
      "nums_j :  20\n",
      "nums_j+1 : 5\n",
      "nums_j :  20\n",
      "nums_j+1 : 15\n",
      "i :  1\n",
      "Result :  [5, 15, 20, 30, 50, 70, 90]\n"
     ]
    }
   ],
   "source": [
    "def bubbleSort(nums):\n",
    "    for i in range(len(nums)-1,0,-1):\n",
    "        print(\"i : \",i)\n",
    "        for j in range(i):\n",
    "            if nums[j] > nums[j+1]:\n",
    "                print(\"nums_j : \",nums[j])\n",
    "                print(\"nums_j+1 :\",nums[j+1])\n",
    "                temp = nums[j]\n",
    "                nums[j] = nums[j+1]\n",
    "                nums[j+1] = temp\n",
    "    return nums\n",
    "\n",
    "nums = [70,20,50,30,90,5,15]\n",
    "bubbleSort(nums)\n",
    "print(\"Result : \", nums)"
   ]
  },
  {
   "cell_type": "code",
   "execution_count": 31,
   "id": "1b23ea46",
   "metadata": {},
   "outputs": [
    {
     "name": "stdout",
     "output_type": "stream",
     "text": [
      "i: 6\n",
      "j: 0\n",
      "nums_j :  70\n",
      "nums_j+1 : 20\n",
      "j: 1\n",
      "nums_j :  70\n",
      "nums_j+1 : 50\n",
      "j: 2\n",
      "nums_j :  70\n",
      "nums_j+1 : 30\n",
      "j: 3\n",
      "nums_j :  70\n",
      "nums_j+1 : 90\n",
      "j: 4\n",
      "nums_j :  90\n",
      "nums_j+1 : 5\n",
      "j: 5\n",
      "nums_j :  90\n",
      "nums_j+1 : 15\n",
      "i: 5\n",
      "j: 0\n",
      "nums_j :  20\n",
      "nums_j+1 : 50\n",
      "j: 1\n",
      "nums_j :  50\n",
      "nums_j+1 : 30\n",
      "j: 2\n",
      "nums_j :  50\n",
      "nums_j+1 : 70\n",
      "j: 3\n",
      "nums_j :  70\n",
      "nums_j+1 : 5\n",
      "j: 4\n",
      "nums_j :  70\n",
      "nums_j+1 : 15\n",
      "i: 4\n",
      "j: 0\n",
      "nums_j :  20\n",
      "nums_j+1 : 30\n",
      "j: 1\n",
      "nums_j :  30\n",
      "nums_j+1 : 50\n",
      "j: 2\n",
      "nums_j :  50\n",
      "nums_j+1 : 5\n",
      "j: 3\n",
      "nums_j :  50\n",
      "nums_j+1 : 15\n",
      "i: 3\n",
      "j: 0\n",
      "nums_j :  20\n",
      "nums_j+1 : 30\n",
      "j: 1\n",
      "nums_j :  30\n",
      "nums_j+1 : 5\n",
      "j: 2\n",
      "nums_j :  30\n",
      "nums_j+1 : 15\n",
      "i: 2\n",
      "j: 0\n",
      "nums_j :  20\n",
      "nums_j+1 : 5\n",
      "j: 1\n",
      "nums_j :  20\n",
      "nums_j+1 : 15\n",
      "i: 1\n",
      "j: 0\n",
      "nums_j :  5\n",
      "nums_j+1 : 15\n",
      "[5, 15, 20, 30, 50, 70, 90]\n"
     ]
    }
   ],
   "source": [
    "def bubbleSort(nums):\n",
    "    for i in range(len(nums)-1,0,-1):\n",
    "        print(\"i:\",i)\n",
    "        for j in range(i):\n",
    "            print(\"j:\",j)\n",
    "            print(\"nums_j : \",nums[j])\n",
    "            print(\"nums_j+1 :\",nums[j+1])\n",
    "            if nums[j] > nums[j+1]:\n",
    "                nums[j], nums[j+1] = nums[j+1], nums[j]\n",
    "\n",
    "nums = [70,20,50,30,90,5,15]\n",
    "bubbleSort(nums)\n",
    "print(nums)"
   ]
  },
  {
   "cell_type": "markdown",
   "id": "734b79de",
   "metadata": {},
   "source": [
    "# Implementation of Selection Sort"
   ]
  },
  {
   "cell_type": "code",
   "execution_count": 26,
   "id": "f3621e36",
   "metadata": {},
   "outputs": [
    {
     "name": "stdout",
     "output_type": "stream",
     "text": [
      "i: 0\n",
      "min_idx 0\n",
      "j: 1\n",
      "arr_j 38\n",
      "arr_minidx :  50\n",
      "j: 2\n",
      "j: 3\n",
      "arr_j 29\n",
      "arr_minidx :  38\n",
      "j: 4\n",
      "arr_j 11\n",
      "arr_minidx :  29\n",
      "j: 5\n",
      "j: 6\n",
      "j: 7\n",
      "i: 1\n",
      "min_idx 1\n",
      "j: 2\n",
      "j: 3\n",
      "arr_j 29\n",
      "arr_minidx :  38\n",
      "j: 4\n",
      "j: 5\n",
      "arr_j 17\n",
      "arr_minidx :  29\n",
      "j: 6\n",
      "j: 7\n",
      "i: 2\n",
      "min_idx 2\n",
      "j: 3\n",
      "arr_j 29\n",
      "arr_minidx :  75\n",
      "j: 4\n",
      "j: 5\n",
      "j: 6\n",
      "arr_j 20\n",
      "arr_minidx :  29\n",
      "j: 7\n",
      "i: 3\n",
      "min_idx 3\n",
      "j: 4\n",
      "j: 5\n",
      "j: 6\n",
      "j: 7\n",
      "i: 4\n",
      "min_idx 4\n",
      "j: 5\n",
      "arr_j 38\n",
      "arr_minidx :  50\n",
      "j: 6\n",
      "j: 7\n",
      "arr_j 37\n",
      "arr_minidx :  38\n",
      "i: 5\n",
      "min_idx 5\n",
      "j: 6\n",
      "j: 7\n",
      "i: 6\n",
      "min_idx 6\n",
      "j: 7\n",
      "arr_j 50\n",
      "arr_minidx :  75\n",
      "i: 7\n",
      "min_idx 7\n",
      "Result :  [11, 17, 20, 29, 37, 38, 50, 75]\n"
     ]
    }
   ],
   "source": [
    "##Time complexity = O(n^2)\n",
    "##Function definition\n",
    "def selectionSort(arr):\n",
    "    n = len(arr)\n",
    "    for i in range(n):\n",
    "        print(\"i:\",i)\n",
    "        #To store the index of minimum element\n",
    "        min_idx = i\n",
    "        print(\"min_idx\",min_idx)\n",
    "        for j in range(i+1, n):\n",
    "            print(\"j:\",j)\n",
    "            if arr[j] < arr[min_idx]:\n",
    "                print(\"arr_j\",arr[j])\n",
    "                print(\"arr_minidx : \",arr[min_idx])\n",
    "                min_idx = j\n",
    "        #Swap of element at i and min_idx\n",
    "        arr[i], arr[min_idx] = arr[min_idx], arr[i]\n",
    "    return arr\n",
    "\n",
    "##Driver code \n",
    "arr = [50,38,75,29,11,17,20,37]\n",
    "result = selectionSort(arr)\n",
    "print(\"Result : \",result)"
   ]
  },
  {
   "cell_type": "markdown",
   "id": "3857b7b7",
   "metadata": {},
   "source": [
    "# Implementation of Insertion Sort"
   ]
  },
  {
   "cell_type": "code",
   "execution_count": 40,
   "id": "0bed2fc1",
   "metadata": {},
   "outputs": [
    {
     "name": "stdout",
     "output_type": "stream",
     "text": [
      "Result :  [1, 3, 4, 5, 9]\n"
     ]
    }
   ],
   "source": [
    "##Time complexity = O(n^2)\n",
    "##Function definition\n",
    "def insertionSort(arr):\n",
    "    for i in range(1, len(arr)):\n",
    "        key = arr[i]\n",
    "        j = i-1\n",
    "        while j >= 0 and key<arr[j]:\n",
    "            arr[j+1] = arr[j]\n",
    "            j = j-1\n",
    "        arr[j+1] = key\n",
    "    return arr\n",
    "    \n",
    "##Driver code \n",
    "arr = [9,5,1,4,3]\n",
    "result = insertionSort(arr)\n",
    "print(\"Result : \",result)"
   ]
  },
  {
   "cell_type": "markdown",
   "id": "629b2f62",
   "metadata": {},
   "source": [
    "# Practice - Bubble Sort"
   ]
  },
  {
   "cell_type": "code",
   "execution_count": 41,
   "id": "c95ad3f0",
   "metadata": {},
   "outputs": [
    {
     "name": "stdout",
     "output_type": "stream",
     "text": [
      "Result :  [11, 17, 20, 29, 37, 38, 50, 75]\n"
     ]
    }
   ],
   "source": [
    "def  bubbleSort(arr):\n",
    "    for i in range(len(arr)-1,0,-1):\n",
    "        for j in range(i):\n",
    "            if arr[j] > arr[j+1]:\n",
    "                temp = arr[j+1]\n",
    "                arr[j+1] = arr[j]\n",
    "                arr[j] = temp\n",
    "    return arr\n",
    "\n",
    "arr = [50,38,75,29,11,17,20,37]\n",
    "result = bubbleSort(arr)\n",
    "print(\"Result : \", result)"
   ]
  },
  {
   "cell_type": "code",
   "execution_count": 42,
   "id": "8a2c8ca2",
   "metadata": {},
   "outputs": [
    {
     "name": "stdout",
     "output_type": "stream",
     "text": [
      "Result :  [11, 17, 20, 29, 37, 38, 50, 75]\n"
     ]
    }
   ],
   "source": [
    "def  bubbleSort(arr):\n",
    "    for i in range(len(arr)-1,0,-1):\n",
    "        for j in range(i):\n",
    "            if arr[j] > arr[j+1]:\n",
    "                arr[j], arr[j+1] = arr[j+1], arr[j]\n",
    "    return arr\n",
    "\n",
    "arr = [50,38,75,29,11,17,20,37]\n",
    "result = bubbleSort(arr)\n",
    "print(\"Result : \", result)"
   ]
  },
  {
   "cell_type": "markdown",
   "id": "a302c63c",
   "metadata": {},
   "source": [
    "# Practice - Selection Sort"
   ]
  },
  {
   "cell_type": "code",
   "execution_count": 44,
   "id": "e7e12a65",
   "metadata": {},
   "outputs": [
    {
     "name": "stdout",
     "output_type": "stream",
     "text": [
      "Result :  [11, 17, 20, 29, 37, 38, 50, 75]\n"
     ]
    }
   ],
   "source": [
    "def selectionSort(arr):\n",
    "    n = len(arr)\n",
    "    for i in range(n):\n",
    "        mid_idx = i\n",
    "        for j in range(i+1, n):\n",
    "            if arr[j] <= arr[mid_idx]:\n",
    "                mid_idx = j\n",
    "        arr[i], arr[mid_idx] = arr[mid_idx], arr[i]\n",
    "    return arr\n",
    "\n",
    "arr = [50,38,75,29,11,17,20,37]\n",
    "result = selectionSort(arr)\n",
    "print(\"Result : \", result)"
   ]
  },
  {
   "cell_type": "markdown",
   "id": "fcfa84f9",
   "metadata": {},
   "source": [
    "# Practice - Insertion Sort"
   ]
  },
  {
   "cell_type": "code",
   "execution_count": 46,
   "id": "8e932fa5",
   "metadata": {},
   "outputs": [
    {
     "name": "stdout",
     "output_type": "stream",
     "text": [
      "Result :  [11, 17, 20, 29, 37, 38, 50, 75]\n"
     ]
    }
   ],
   "source": [
    "def insertionSort(arr):\n",
    "    for i in range(1, len(arr)):\n",
    "        key = arr[i]\n",
    "        j = i-1\n",
    "        while j>= 0 and key<arr[j]:\n",
    "            arr[j+1] = arr[j]\n",
    "            j = j-1\n",
    "        arr[j+1] = key\n",
    "    return arr\n",
    "\n",
    "arr = [50,38,75,29,11,17,20,37]\n",
    "result = insertionSort(arr)\n",
    "print(\"Result : \", result)"
   ]
  },
  {
   "cell_type": "markdown",
   "id": "97dc66fa",
   "metadata": {},
   "source": [
    "# FAANG Interview Question on Arrays Best Time to Buy and Sell Stock"
   ]
  },
  {
   "cell_type": "code",
   "execution_count": 56,
   "id": "12b0e756",
   "metadata": {},
   "outputs": [
    {
     "name": "stdout",
     "output_type": "stream",
     "text": [
      "Result :  14\n"
     ]
    }
   ],
   "source": [
    "def findMaxProfit(prices):\n",
    "    min_price = float('inf')\n",
    "    max_price = 0\n",
    "    for i in range(len(prices)):\n",
    "        if prices[i] < min_price:\n",
    "            min_price = prices[i]\n",
    "        elif prices[i]-min_price > max_price:\n",
    "            max_price = prices[i]-min_price\n",
    "    return max_price\n",
    "\n",
    "prices = [7,1,5,3,6,4,15]\n",
    "maxProfit = findMaxProfit(prices)\n",
    "print(\"Result : \", maxProfit)"
   ]
  },
  {
   "cell_type": "markdown",
   "id": "ef5915d5",
   "metadata": {},
   "source": [
    "# FAANG Interview Question on Arrays Collinear Points"
   ]
  },
  {
   "cell_type": "code",
   "execution_count": 62,
   "id": "5e51ead7",
   "metadata": {},
   "outputs": [
    {
     "name": "stdout",
     "output_type": "stream",
     "text": [
      "Result :  True\n"
     ]
    }
   ],
   "source": [
    "## Aproach 1 : Using the concept of slope\n",
    "## Time Complexity = O(1)\n",
    "## Space Complexity = O(1)\n",
    "## Function definition\n",
    "def isCollinearPoints(x1, x2, x3, y1, y2, y3):\n",
    "    if ((y2-y1)*(x3-x2)==(y3-y2)*(x2-x1)):\n",
    "        return True\n",
    "    else:\n",
    "        return False\n",
    "\n",
    "## Driver code \n",
    "x1, x2, x3, y1, y2, y3 = 1, 1, 1, 6, 0, 9\n",
    "result = isCollinearPoints(x1, x2, x3, y1, y2, y3)\n",
    "print(\"Result : \", result)"
   ]
  },
  {
   "cell_type": "code",
   "execution_count": 64,
   "id": "d3ea9e98",
   "metadata": {},
   "outputs": [
    {
     "name": "stdout",
     "output_type": "stream",
     "text": [
      "Result :  True\n"
     ]
    }
   ],
   "source": [
    "## Aproach 1 : Using the concept of triangle\n",
    "## Time Complexity = O(1)\n",
    "## Space Complexity = O(1)\n",
    "## Function definition\n",
    "def isCollinearPoints(x1, x2, x3, y1, y2, y3):\n",
    "    area = 0.5*(x1*(y2-y3)+x2*(y3-y1)+x3*(y1-y2))\n",
    "    if area == 0:\n",
    "        return True\n",
    "    else:\n",
    "        return False\n",
    "\n",
    "## Driver code \n",
    "x1, x2, x3, y1, y2, y3 = 1, 1, 1, 6, 0, 9\n",
    "result = isCollinearPoints(x1, x2, x3, y1, y2, y3)\n",
    "print(\"Result : \", result)"
   ]
  },
  {
   "cell_type": "markdown",
   "id": "7f93f179",
   "metadata": {},
   "source": [
    "# FAANG Interview Question on Arrays Majority Element"
   ]
  },
  {
   "cell_type": "code",
   "execution_count": 34,
   "id": "a9107ffa",
   "metadata": {},
   "outputs": [
    {
     "name": "stdout",
     "output_type": "stream",
     "text": [
      "No Candidate element\n"
     ]
    }
   ],
   "source": [
    "## Aproach 1 : Using the sorting and counting technique\n",
    "## Time Complexity = O(nlogn)\n",
    "## Space Complexity = O(1)\n",
    "def sortedElementOne(nums):\n",
    "    n = len(nums)\n",
    "    for i in range(1,n):\n",
    "        key = nums[i]\n",
    "        j = i-1\n",
    "        while j>=0 and key<nums[j]:\n",
    "            nums[j+1] = nums[j]\n",
    "            j = j-1\n",
    "        nums[j+1]=key\n",
    "    return nums\n",
    "\n",
    "def countMajorityElements(nums):\n",
    "    count = 0\n",
    "    candidate = None\n",
    "    for num in nums:\n",
    "        if count == 0:\n",
    "            candidate = num\n",
    "        count += (1 if num == candidate else -1)\n",
    "    return candidate\n",
    "\n",
    "def majorityElement(nums, candidate):\n",
    "    cnt = 0\n",
    "    n = len(nums)\n",
    "    for i in range(n):\n",
    "        if nums[i] == candidate:\n",
    "            cnt += 1\n",
    "        if cnt > n/2:\n",
    "            return 1\n",
    "        else:\n",
    "            return 0\n",
    "    \n",
    "def printElementOne(nums):\n",
    "    majorEle = countMajorityElements(nums)\n",
    "    if majorityElement(nums, majorEle):\n",
    "        print(\"Candidate element : \", majorEle)\n",
    "    else:\n",
    "        print(\"No Candidate element\")\n",
    "\n",
    "## Driver code \n",
    "nums = [2,2,1,1,1,2,2,4,4,4,4,4]\n",
    "printElementOne(nums)"
   ]
  },
  {
   "cell_type": "code",
   "execution_count": 59,
   "id": "e962bb8d",
   "metadata": {},
   "outputs": [
    {
     "name": "stdout",
     "output_type": "stream",
     "text": [
      "Counter({5: 10, 9: 7, 4: 5, 2: 4, 1: 3})\n",
      "Result :  5\n"
     ]
    }
   ],
   "source": [
    "## Aproach 2 : Using the hash table (Dictionary based Data Structure)\n",
    "## Time Complexity = O(n)\n",
    "## Space Complexity = O(n)\n",
    "from collections import Counter\n",
    "def majorityElement(nums):\n",
    "    counts = Counter(nums)\n",
    "    print(counts)\n",
    "    return max(counts.keys(), key=counts.get)\n",
    "\n",
    "## Driver code \n",
    "nums = [2,2,1,1,1,2,2,4,4,4,4,4,9,9,9,9,9,9,9,5,5,5,5,5,5,5,5,5,5]\n",
    "result = majorityElement(nums)\n",
    "print(\"Result : \", result)"
   ]
  },
  {
   "cell_type": "code",
   "execution_count": 83,
   "id": "33b04bd5",
   "metadata": {},
   "outputs": [
    {
     "name": "stdout",
     "output_type": "stream",
     "text": [
      "Majority Element :  2\n"
     ]
    }
   ],
   "source": [
    "## Aproach 3 : Using Boyer-Moore Voting algorithm\n",
    "## Time Complexity = O(n)\n",
    "## Space Complexity = O(n)\n",
    "def findCandidate(nums):\n",
    "    count = 0\n",
    "    candidate = None\n",
    "    for num in nums:\n",
    "        if count == 0:\n",
    "            candidate = num\n",
    "        count += (1 if num == candidate else -1)\n",
    "    return candidate\n",
    "\n",
    "def isMajority(nums, candidate):\n",
    "    cnt = 0\n",
    "    n = len(nums)\n",
    "    for i in range(n):\n",
    "        if nums[i] == candidate:\n",
    "            cnt +=1 \n",
    "    if cnt > n/2:\n",
    "        return 1\n",
    "    else:\n",
    "        return 0\n",
    "\n",
    "def printMajorityElement(nums):\n",
    "    cand = findCandidate(nums)\n",
    "    if isMajority(nums, cand):\n",
    "        print(\"Majority Element : \", cand)\n",
    "    else:\n",
    "        print(\"No Majority Element Found !!\")\n",
    "\n",
    "## Driver code \n",
    "nums = [2, 2, 1, 1, 1, 2, 2]\n",
    "printMajorityElement(nums)"
   ]
  },
  {
   "cell_type": "markdown",
   "id": "c1078b63",
   "metadata": {},
   "source": [
    "# FAANG Interview Question on Arrays Sort Colors   "
   ]
  },
  {
   "cell_type": "code",
   "execution_count": 36,
   "id": "c0688f06",
   "metadata": {},
   "outputs": [
    {
     "name": "stdout",
     "output_type": "stream",
     "text": [
      "Result :  [0, 0, 1, 1, 2, 2]\n"
     ]
    }
   ],
   "source": [
    "def sortColors(nums):\n",
    "    p0 = curr = 0\n",
    "    p2 = len(nums)-1\n",
    "    while curr <= p2:\n",
    "        if nums[curr] == 0:\n",
    "            nums[curr], nums[p0] = nums[p0], nums[curr]\n",
    "            p0 += 1\n",
    "            curr += 1\n",
    "        elif nums[curr] == 2:\n",
    "            nums[curr], nums[p2] = nums[p2], nums[curr]\n",
    "            p2 -= 1\n",
    "        else:\n",
    "            curr += 1\n",
    "    return nums\n",
    "\n",
    "## Driver code\n",
    "nums = [2,0,2,1,1,0]\n",
    "result = sortColors(nums)\n",
    "print(\"Result : \", result)"
   ]
  },
  {
   "cell_type": "markdown",
   "id": "3ae9dddd",
   "metadata": {},
   "source": [
    "#  FAANG Interview Question on Heap Top K frequent elements"
   ]
  },
  {
   "cell_type": "code",
   "execution_count": 79,
   "id": "c6075baf",
   "metadata": {},
   "outputs": [
    {
     "name": "stdout",
     "output_type": "stream",
     "text": [
      "Counter({1: 4, 2: 3, 3: 1})\n",
      "Result :  [1, 2]\n"
     ]
    }
   ],
   "source": [
    "## Solution 1\n",
    "from collections import Counter\n",
    "import heapq\n",
    "## Function definition\n",
    "def topKFrequentELement(k, arr):\n",
    "    if k == len(arr):\n",
    "        return set(arr)\n",
    "    count = Counter(arr)\n",
    "    print(count)\n",
    "    return heapq.nlargest(k, count.keys(), key = count.get)\n",
    "\n",
    "## Driver code\n",
    "arr = [1,1,1,1,2,2,2,3]\n",
    "k = 2\n",
    "## Function calling\n",
    "result = topKFrequentELement(k, arr)\n",
    "print(\"Result : \", result)"
   ]
  },
  {
   "cell_type": "code",
   "execution_count": 90,
   "id": "04e01278",
   "metadata": {},
   "outputs": [
    {
     "name": "stdout",
     "output_type": "stream",
     "text": [
      "Result :  [1, 2]\n"
     ]
    }
   ],
   "source": [
    "## Solution 2\n",
    "class Solution:\n",
    "    def topKFrequent(self, nums: List[int], k: int) -> List[int]:\n",
    "        return [x for x,_ in sorted(Counter(nums).items(), key=lambda x:-x[1])[:k]]\n",
    "sol = Solution()\n",
    "print(\"Result : \", sol.topKFrequent([1,1,1,2,2,3], 2))"
   ]
  },
  {
   "cell_type": "code",
   "execution_count": 118,
   "id": "92249c81",
   "metadata": {},
   "outputs": [
    {
     "name": "stdout",
     "output_type": "stream",
     "text": [
      "[(1, 3), (2, 2)]\n"
     ]
    }
   ],
   "source": [
    "## Explaination for the arrival of the solution 2\n",
    "nums = [1,1,1,2,2,3]\n",
    "result = [x for x in sorted(Counter(nums).items(), key=lambda x:-x[1])[:k]]\n",
    "print(result)"
   ]
  },
  {
   "cell_type": "code",
   "execution_count": 162,
   "id": "3c58cd00",
   "metadata": {},
   "outputs": [
    {
     "name": "stdout",
     "output_type": "stream",
     "text": [
      "Result :  [1, 2]\n"
     ]
    }
   ],
   "source": [
    " ## RC ##\n",
    "        ## APPROACH : HEAP ##\n",
    "        # logic : #\n",
    "        #   1. we store value = (frequency, key) pair in heap\n",
    "        #   2. by default heapq in python is min heap. It is sorted based on value[0].\n",
    "        #   3. so we multiply -1 with frequency, so as to get maximum frequent element from value[1] (as heap return minimum and we stored with negative sign)\n",
    "        \n",
    "        ## TIME COMPLEXITY : O(NxK) ##\n",
    "        ## SPACE COMPLEXITY : O(N) ##\n",
    "\n",
    "from collections import Counter\n",
    "import heapq\n",
    "## Solution 3\n",
    "class Solution:\n",
    "    def topKFrequent(self, nums: List[int], k: int) -> List[int]:\n",
    "        heap = []\n",
    "        count = Counter(nums)\n",
    "        for i in set(nums):\n",
    "            heapq.heappush(heap, (-1*count[i],i))\n",
    "        return [heapq.heappop(heap)[1] for x in range(k)]\n",
    "sol = Solution()\n",
    "print(\"Result : \", sol.topKFrequent([1,1,1,2,2,3], 2))"
   ]
  },
  {
   "cell_type": "code",
   "execution_count": 7,
   "id": "5d12d5b0",
   "metadata": {},
   "outputs": [
    {
     "name": "stdout",
     "output_type": "stream",
     "text": [
      "Result :  [1, 2]\n"
     ]
    }
   ],
   "source": [
    " ## RC ##\n",
    "        ## APPROACH : HEAP ##\n",
    "        # logic : #\n",
    "        #   1. we store value = (frequency, key) pair in heap\n",
    "        #   2. by default heapq in python is min heap. It is sorted based on value[0].\n",
    "        #   3. so we multiply -1 with frequency, so as to get maximum frequent element from value[1] (as heap return minimum and we stored with negative sign)\n",
    "        \n",
    "        ## TIME COMPLEXITY : O(NxK) ##\n",
    "        ## SPACE COMPLEXITY : O(N) ##\n",
    "from typing import List\n",
    "from collections import Counter\n",
    "import heapq\n",
    "from heapq import heappush, heappop\n",
    "## Solution 3\n",
    "class Solution:\n",
    "    def topKFrequent(self, nums: List[int], k: int) -> List[int]:\n",
    "        heap = []\n",
    "        result = []\n",
    "        count = Counter(nums)\n",
    "        for i in set(nums):\n",
    "            heapq.heappush(heap, (-1*count[i],i))\n",
    "        for i in range(k):\n",
    "            result.append(heappop(heap)[1])\n",
    "        return result\n",
    "sol = Solution()\n",
    "print(\"Result : \", sol.topKFrequent([1,1,1,2,2,3], 2))"
   ]
  },
  {
   "cell_type": "markdown",
   "id": "d1ebfff9",
   "metadata": {},
   "source": [
    "# FAANG Interview Question on Heap K Closest Points to Origin"
   ]
  },
  {
   "cell_type": "code",
   "execution_count": 60,
   "id": "ba7741e4",
   "metadata": {},
   "outputs": [
    {
     "name": "stdout",
     "output_type": "stream",
     "text": [
      "Result :  [[3, 3], [-2, 4]]\n"
     ]
    }
   ],
   "source": [
    "from heapq import heappush, heappop\n",
    "import math\n",
    "\n",
    "def get_dist(x,y):\n",
    "    return math.sqrt(x**2+y**2)\n",
    "    \n",
    "def kClosest(points,k):\n",
    "    min_heap = []\n",
    "    n = len(points)\n",
    "    for i in range(n):\n",
    "        x = points[i][0]\n",
    "        y = points[i][1]\n",
    "        ## To insert the element inside the min_heap\n",
    "        heappush(min_heap,(get_dist(x,y),points[i]))\n",
    "        \n",
    "    result = []\n",
    "    for i in range(k):\n",
    "        ## Heappop is used to delete the elements from the min_heap\n",
    "        result.append(heappop(min_heap)[1])\n",
    "    return result\n",
    "\n",
    "## Driver code\n",
    "points = [[3,3],[5,-1],[-2,4]]\n",
    "k = 2\n",
    "## Function calling\n",
    "result = kClosest(points,k)\n",
    "print(\"Result : \", result)"
   ]
  },
  {
   "cell_type": "markdown",
   "id": "2ef48131",
   "metadata": {},
   "source": [
    "# Factorial Finding using Recursion with its Implementation"
   ]
  },
  {
   "cell_type": "code",
   "execution_count": 204,
   "id": "9225e7df",
   "metadata": {},
   "outputs": [
    {
     "name": "stdout",
     "output_type": "stream",
     "text": [
      "Result :  120\n"
     ]
    }
   ],
   "source": [
    "## Factorial using the recursive approach\n",
    "## Function definition\n",
    "## Time complexity : O(n)\n",
    "def findFactorial(n):\n",
    "    ## Base case condition \n",
    "    ## Small problem\n",
    "    if n==0 or n==1:\n",
    "        return 1\n",
    "    else:\n",
    "        ## Recursive function call\n",
    "        ## big problem\n",
    "        return n*findFactorial(n-1)\n",
    "\n",
    "## Driver code\n",
    "n = 5\n",
    "## function calling\n",
    "result = findFactorial(n)\n",
    "print(\"Result : \", result)"
   ]
  },
  {
   "cell_type": "code",
   "execution_count": 203,
   "id": "4d738a4f",
   "metadata": {},
   "outputs": [
    {
     "name": "stdout",
     "output_type": "stream",
     "text": [
      "Result :  120\n"
     ]
    }
   ],
   "source": [
    "## Factorial using the non-recursive (iteration) approach\n",
    "## Function definition\n",
    "## Time complexity : O(n)\n",
    "def findFactorial(n):\n",
    "    ## Base case condition \n",
    "    ## Small problem\n",
    "    if n==0 or n==1:\n",
    "        return 1\n",
    "    else:\n",
    "        ## Recursive function call\n",
    "        result = 1\n",
    "        for i in range(2,n+1):\n",
    "            result = result*i\n",
    "        return result\n",
    "\n",
    "## Driver code\n",
    "n = 5\n",
    "## function calling\n",
    "final_result = findFactorial(n)\n",
    "print(\"Result : \", final_result)"
   ]
  },
  {
   "cell_type": "code",
   "execution_count": 11,
   "id": "72f36f6b",
   "metadata": {},
   "outputs": [
    {
     "name": "stdout",
     "output_type": "stream",
     "text": [
      "Result :  [1, 2]\n"
     ]
    }
   ],
   "source": [
    "import heapq\n",
    "from collections import Counter\n",
    "def topKFrequentELement(k, arr):\n",
    "    if k == len(arr):\n",
    "        return set(arr)\n",
    "    count = Counter(arr)\n",
    "    return heapq.nlargest(k, count.keys(), key = count.get)\n",
    "\n",
    "## Driver code\n",
    "arr = [1,1,1,1,2,2,2,3]\n",
    "k = 2\n",
    "## Function calling\n",
    "result = topKFrequentELement(k, arr)\n",
    "print(\"Result : \", result)"
   ]
  },
  {
   "cell_type": "code",
   "execution_count": 18,
   "id": "e000a440",
   "metadata": {},
   "outputs": [
    {
     "name": "stdout",
     "output_type": "stream",
     "text": [
      "Result :  [1, 2]\n"
     ]
    }
   ],
   "source": [
    "class Solution:\n",
    "    def KFrequentELement(self, nums:List[int], k:int) -> List[int]:\n",
    "        return [ x for x,_ in sorted(Counter(nums).items(), key = lambda x:-x[1])[:k]]\n",
    "s = Solution()\n",
    "print(\"Result : \", s.KFrequentELement([1,1,1,1,2,2,2,3], 2))"
   ]
  },
  {
   "cell_type": "code",
   "execution_count": 23,
   "id": "7594f903",
   "metadata": {},
   "outputs": [
    {
     "name": "stdout",
     "output_type": "stream",
     "text": [
      "[(3, 1), (2, 3)]\n"
     ]
    }
   ],
   "source": [
    "nums = [1,1,1,1,2,2,2,3]\n",
    "result = [x for x in sorted(Counter(nums).items(), key=lambda x : x[1])[:k]]\n",
    "print(result)"
   ]
  },
  {
   "cell_type": "code",
   "execution_count": 52,
   "id": "ab5b9476",
   "metadata": {},
   "outputs": [
    {
     "name": "stdout",
     "output_type": "stream",
     "text": [
      "[(3, 1), (2, 3), (1, 4)]\n"
     ]
    }
   ],
   "source": [
    "nums = [1,1,1,1,2,2,2,3]\n",
    "x = 2\n",
    "result = [x for x in sorted(Counter(nums).items(), key=lambda x : x[1])]\n",
    "print(result)"
   ]
  },
  {
   "cell_type": "code",
   "execution_count": 53,
   "id": "6edeb465",
   "metadata": {},
   "outputs": [
    {
     "name": "stdout",
     "output_type": "stream",
     "text": [
      "[(1, 4), (2, 3), (3, 1)]\n"
     ]
    }
   ],
   "source": [
    "nums = [1,1,1,1,2,2,2,3]\n",
    "x = 2\n",
    "result = [x for x in sorted(Counter(nums).items(), key=lambda x : x[0])]\n",
    "print(result)"
   ]
  },
  {
   "cell_type": "code",
   "execution_count": 54,
   "id": "cca823c4",
   "metadata": {},
   "outputs": [
    {
     "name": "stdout",
     "output_type": "stream",
     "text": [
      "[(1, 4), (2, 3)]\n"
     ]
    }
   ],
   "source": [
    "nums = [1,1,1,1,2,2,2,3]\n",
    "x = 2\n",
    "result = [x for x in sorted(Counter(nums).items(), key=lambda x : x[0])[:x]]\n",
    "print(result)"
   ]
  },
  {
   "cell_type": "code",
   "execution_count": 55,
   "id": "bcf0708d",
   "metadata": {},
   "outputs": [
    {
     "name": "stdout",
     "output_type": "stream",
     "text": [
      "[1, 2]\n"
     ]
    }
   ],
   "source": [
    "nums = [1,1,1,1,2,2,2,3]\n",
    "x = 2\n",
    "result = [x for x,_ in sorted(Counter(nums).items(), key=lambda x : x[0])[:x]]\n",
    "print(result)"
   ]
  },
  {
   "cell_type": "code",
   "execution_count": 30,
   "id": "79c452bd",
   "metadata": {},
   "outputs": [
    {
     "name": "stdout",
     "output_type": "stream",
     "text": [
      "[1, 2]\n"
     ]
    }
   ],
   "source": [
    "nums = [1,1,1,1,2,2,2,3]\n",
    "x = 2\n",
    "result = [x for x,_ in sorted(Counter(nums).items(), key=lambda x : -x[1])[:x]]\n",
    "print(result)"
   ]
  },
  {
   "cell_type": "code",
   "execution_count": 73,
   "id": "bdfc58c9",
   "metadata": {},
   "outputs": [
    {
     "name": "stdout",
     "output_type": "stream",
     "text": [
      "Result :  [1, 2]\n"
     ]
    }
   ],
   "source": [
    "class Solution:\n",
    "    def KFrequentELement3(self, nums:List[int], k:int) -> List[int]:\n",
    "        heap = []\n",
    "        result = []\n",
    "        count = Counter(nums)\n",
    "        for i in range(len(nums)):\n",
    "            heapq.heappush(heap, (-1*count[i], i))\n",
    "        for i in range(k):\n",
    "            result.append(heapq.heappop(heap)[1])\n",
    "        return result\n",
    "\n",
    "s = Solution()\n",
    "print(\"Result : \", s.KFrequentELement3([1,1,1,1,2,2,2,3], 2))"
   ]
  },
  {
   "cell_type": "markdown",
   "id": "830909e4",
   "metadata": {},
   "source": [
    "# Fibonacci Series using Recursion with its Implementation"
   ]
  },
  {
   "cell_type": "code",
   "execution_count": 77,
   "id": "474b700e",
   "metadata": {},
   "outputs": [
    {
     "name": "stdout",
     "output_type": "stream",
     "text": [
      "0 1 1 2 3 5 8 13 21 34 "
     ]
    }
   ],
   "source": [
    "def fibonacciSeries(n):\n",
    "    if n<=1:\n",
    "        return n\n",
    "    else:\n",
    "        return fibonacciSeries(n-1) + fibonacciSeries(n-2)\n",
    "\n",
    "n = 10\n",
    "for i in range(n):\n",
    "    print(fibonacciSeries(i), end = \" \")"
   ]
  },
  {
   "cell_type": "markdown",
   "id": "5ee143d5",
   "metadata": {},
   "source": [
    "# Count Of number of ways to reach upstairs"
   ]
  },
  {
   "cell_type": "code",
   "execution_count": 5,
   "id": "c74bc302",
   "metadata": {},
   "outputs": [
    {
     "name": "stdout",
     "output_type": "stream",
     "text": [
      "Result :  8 ways\n"
     ]
    }
   ],
   "source": [
    "## Time complexity : O(2^n)\n",
    "def helper(n):\n",
    "    if n<=1:\n",
    "        return n\n",
    "    else:\n",
    "        return helper(n-1) + helper(n-2)\n",
    "    \n",
    "def countNumberOfWays(s):\n",
    "    return helper(s+1)\n",
    "\n",
    "n = 5\n",
    "result = countNumberOfWays(n)\n",
    "print(\"Result : \", result,\"ways\")"
   ]
  },
  {
   "cell_type": "markdown",
   "id": "be18d79a",
   "metadata": {},
   "source": [
    "# Applications of Divide and Conquer Implementation of finding of maxima and minima"
   ]
  },
  {
   "cell_type": "code",
   "execution_count": 1,
   "id": "f67fa829",
   "metadata": {},
   "outputs": [
    {
     "name": "stdout",
     "output_type": "stream",
     "text": [
      "Maxmimum Value :  70\n",
      "Minimum Value :  10\n"
     ]
    }
   ],
   "source": [
    "def findMaxAndMin(arr,i,j):\n",
    "    if i == j:\n",
    "        max_val = arr[i]\n",
    "        min_val = arr[i]\n",
    "    elif i == j-1:\n",
    "        if arr[i] < arr[j]:\n",
    "            max_val = arr[j]\n",
    "            min_val = arr[i]\n",
    "        else:\n",
    "            max_val = arr[i]\n",
    "            min_val = arr[j]\n",
    "    else:\n",
    "        mid = i+(j-i)//2\n",
    "        max_l, min_l = findMaxAndMin(arr,i,mid)\n",
    "        max_r, min_r = findMaxAndMin(arr,mid+1,j)\n",
    "        if max_l < max_r:\n",
    "            max_val = max_r\n",
    "        else:\n",
    "            max_val = max_l\n",
    "        if min_l < min_r:\n",
    "            min_val = min_l\n",
    "        else:\n",
    "            min_val = min_r\n",
    "    return max_val, min_val\n",
    "\n",
    "## Driver code\n",
    "arr = [10,70,45,16,29,30,35,20]\n",
    "i = 0\n",
    "j = len(arr)-1\n",
    "max_val,min_val = findMaxAndMin(arr,i,j)\n",
    "print(\"Maxmimum Value : \", max_val)\n",
    "print(\"Minimum Value : \", min_val)"
   ]
  },
  {
   "cell_type": "markdown",
   "id": "60bf9cfe",
   "metadata": {},
   "source": [
    "# Finding of power of an element "
   ]
  },
  {
   "cell_type": "code",
   "execution_count": 1,
   "id": "c94e51ea",
   "metadata": {},
   "outputs": [
    {
     "name": "stdout",
     "output_type": "stream",
     "text": [
      "Result :  4\n"
     ]
    }
   ],
   "source": [
    "def findPowerOfElement(a,n):\n",
    "    if n==1:\n",
    "        return a\n",
    "    elif n == 0:\n",
    "        return 1\n",
    "    else:\n",
    "        mid = n//2\n",
    "        b = findPowerOfElement(a,mid)\n",
    "        result = b*b\n",
    "        if n%2==0:\n",
    "            return result\n",
    "        else:\n",
    "            return result*a\n",
    "## Driver code\n",
    "a = 2\n",
    "n = 2\n",
    "result = findPowerOfElement(a,n)\n",
    "print(\"Result : \", result)"
   ]
  },
  {
   "cell_type": "markdown",
   "id": "1ae20743",
   "metadata": {},
   "source": [
    "#  Applications of Divide and Conquer Implementation of Binary Search"
   ]
  },
  {
   "cell_type": "code",
   "execution_count": 30,
   "id": "47a6b52d",
   "metadata": {},
   "outputs": [
    {
     "name": "stdout",
     "output_type": "stream",
     "text": [
      "Result :  2\n"
     ]
    }
   ],
   "source": [
    "def binarySearch(arr,x,i,j):\n",
    "    while i<=j:\n",
    "        mid = i+(j-i)//2\n",
    "        if arr[mid]==x:\n",
    "            return mid\n",
    "        elif arr[mid]<=x:\n",
    "            return binarySearch(arr,x,mid+1,j)\n",
    "        else:\n",
    "            return binarySearch(arr,x,i,mid-1)\n",
    "    return -1\n",
    "            \n",
    "#Driver Code\n",
    "# Sorted Array\n",
    "arr = [2,5,10,14,18,22,27,35,40,59]\n",
    "x = 10\n",
    "i = 0\n",
    "j = len(arr)-1\n",
    "result = binarySearch(arr,x,i,j)\n",
    "print(\"Result : \",result)"
   ]
  },
  {
   "cell_type": "markdown",
   "id": "a49bf6e3",
   "metadata": {},
   "source": [
    "# FAANG Interview Question Two Pointers Problem"
   ]
  },
  {
   "cell_type": "code",
   "execution_count": 45,
   "id": "000a19c7",
   "metadata": {},
   "outputs": [
    {
     "name": "stdout",
     "output_type": "stream",
     "text": [
      "Result :  (0, 6)\n"
     ]
    }
   ],
   "source": [
    "def findPair(arr,target):\n",
    "    l = 0\n",
    "    r = len(arr)-1\n",
    "    for i in range(len(arr)-1):\n",
    "        if arr[l]+arr[r]==target:\n",
    "            return l,r\n",
    "        elif arr[l]+arr[r]>target:\n",
    "            r=r-1\n",
    "        else:\n",
    "            l=l+1\n",
    "    return -1,-1\n",
    "\n",
    "## Driver code\n",
    "arr = [20,40,50,75,120,145,200]\n",
    "target=220\n",
    "result = findPair(arr,target)\n",
    "print(\"Result : \", result)"
   ]
  },
  {
   "cell_type": "markdown",
   "id": "40982ad8",
   "metadata": {},
   "source": [
    "# Applications of Divide and Conquer :  Implementation of Merge Sort"
   ]
  },
  {
   "cell_type": "code",
   "execution_count": 80,
   "id": "5ae68bff",
   "metadata": {},
   "outputs": [
    {
     "name": "stdout",
     "output_type": "stream",
     "text": [
      "Sorted array after applying the merge sort is: [13, 27, 50, 62, 65, 70, 80, 98]\n"
     ]
    }
   ],
   "source": [
    "## Implementation of Merge Sort\n",
    "## function definition of merge Procedure\n",
    "## n1+n2 = N \n",
    "## MergeProcedure time complexity = O(N)\n",
    "def mergeProcedure(arr, i, mid, j):\n",
    "    ## n1-> number of elements in the left subarray(i, mid)\n",
    "    n1 = mid - i + 1\n",
    "    ## n2 -> number of elements in the right subarray(mid+1, j)\n",
    "    n2 = j - mid\n",
    "    \n",
    "    \n",
    "    ## intialization of left and right subarray\n",
    "    leftSubarray = [0] * n1\n",
    "    rightSubarray = [0] * n2\n",
    "    \n",
    "    ## copy the elements from an array to the subarrays\n",
    "    for m in range(n1):\n",
    "        leftSubarray[m] = arr[i + m]\n",
    "       \n",
    "    for n in range(n2):\n",
    "        rightSubarray[n] = arr[mid + 1 + n]\n",
    "    \n",
    "    p = 0\n",
    "    q = 0\n",
    "    k = i\n",
    "    ## returning a sorted subarray\n",
    "    while p < n1 and q < n2:\n",
    "        if leftSubarray[p] <= rightSubarray[q]:\n",
    "            arr[k] = leftSubarray[p]\n",
    "            p += 1\n",
    "        else:\n",
    "            arr[k] = rightSubarray[q]\n",
    "            q += 1\n",
    "        k += 1\n",
    "    \n",
    "    ## copy the entire elements from the left subarray\n",
    "    while p < n1:\n",
    "        arr[k] = leftSubarray[p]\n",
    "        p += 1\n",
    "        k += 1\n",
    "    \n",
    "    ## copy the entire elements from the right subarray\n",
    "    while q < n2:\n",
    "        arr[k] = rightSubarray[q]\n",
    "        q += 1\n",
    "        k += 1\n",
    "\n",
    "## function definition of merge sort\n",
    "## Approach -> Divide and Conquer\n",
    "## Recurrence Relation -> 2T(N/2) + N\n",
    "## Time complexity -> O(NlogN)\n",
    "def mergeSort(arr, i, j):\n",
    "    if i < j:\n",
    "        ## Divide\n",
    "        mid = i + (j-i)//2\n",
    "        ## Conquer\n",
    "        ## recursive call -> left subtree\n",
    "        mergeSort(arr, i, mid)\n",
    "        ## recursive call -> right subtree\n",
    "        mergeSort(arr, mid+1, j)\n",
    "        ## Combine -> mergeProcedure(function calling)\n",
    "        mergeProcedure(arr, i, mid, j)\n",
    "    return arr\n",
    "\n",
    "\n",
    "## Driver code\n",
    "arr = [50, 70, 65, 13, 80, 62, 98, 27]\n",
    "i = 0\n",
    "j = len(arr) - 1\n",
    "## function calling\n",
    "result = mergeSort(arr, i, j)\n",
    "print(\"Sorted array after applying the merge sort is:\", result)"
   ]
  },
  {
   "cell_type": "code",
   "execution_count": 75,
   "id": "53bcd05b",
   "metadata": {},
   "outputs": [
    {
     "name": "stdout",
     "output_type": "stream",
     "text": [
      "Result :  [13, 27, 50, 62, 65, 70, 80, 98]\n"
     ]
    }
   ],
   "source": [
    "def mergeProcedure(arr,i,mid,j):\n",
    "    n1 = mid-i+1\n",
    "    n2 = j-mid\n",
    "    \n",
    "    leftSubArray = [0]*n1\n",
    "    rightSubArray = [0]*n2\n",
    "    \n",
    "    for m in range(n1):\n",
    "        leftSubArray[m] = arr[i+m]\n",
    "        \n",
    "    for n in range(n2):\n",
    "        rightSubArray[n] = arr[mid+1+n]\n",
    "        \n",
    "    p=0\n",
    "    q=0\n",
    "    k=i\n",
    "    \n",
    "    while p<n1 and q<n2:\n",
    "        if leftSubArray[p]<=rightSubArray[q]:\n",
    "            arr[k] = leftSubArray[p]\n",
    "            p+=1\n",
    "        else:\n",
    "            arr[k] = rightSubArray[q]\n",
    "            q+=1\n",
    "        k+=1\n",
    "            \n",
    "    while p<n1:\n",
    "        arr[k] = leftSubArray[p]\n",
    "        p+=1\n",
    "        k+=1\n",
    "        \n",
    "    while q<n1:\n",
    "        arr[k] = rightSubArray[q]\n",
    "        q+=1\n",
    "        k+=1\n",
    "\n",
    "\n",
    "def mergeSort(arr,i,j):\n",
    "    if i<j:\n",
    "        mid = i+(j-i)//2\n",
    "        mergeSort(arr,i,mid)\n",
    "        mergeSort(arr,mid+1,j)\n",
    "        mergeProcedure(arr,i,mid,j)\n",
    "    return arr\n",
    "\n",
    "arr = [50, 70, 65, 13, 80, 62, 98, 27]\n",
    "i = 0\n",
    "j = len(arr)-1\n",
    "result = mergeSort(arr,i,j)\n",
    "print(\"Result : \",result)"
   ]
  },
  {
   "cell_type": "code",
   "execution_count": 73,
   "id": "e3e9e2a7",
   "metadata": {},
   "outputs": [
    {
     "name": "stdout",
     "output_type": "stream",
     "text": [
      "Result: [13, 27, 50, 62, 65, 70, 80, 98]\n"
     ]
    }
   ],
   "source": [
    "def mergeProcedure(arr, i, mid, j):\n",
    "    n1 = mid - i + 1\n",
    "    n2 = j - mid\n",
    "\n",
    "    leftSubArray = []\n",
    "    rightSubArray = []\n",
    "\n",
    "    for m in range(n1):\n",
    "        leftSubArray.append(arr[i + m])\n",
    "\n",
    "    for n in range(n2):\n",
    "        rightSubArray.append(arr[mid + 1 + n])\n",
    "\n",
    "    p = 0\n",
    "    q = 0\n",
    "    k = i\n",
    "\n",
    "    while p < n1 and q < n2:\n",
    "        if leftSubArray[p] <= rightSubArray[q]:\n",
    "            arr[k] = leftSubArray[p]\n",
    "            p += 1\n",
    "        else:\n",
    "            arr[k] = rightSubArray[q]\n",
    "            q += 1\n",
    "        k += 1\n",
    "\n",
    "    while p < n1:\n",
    "        arr[k] = leftSubArray[p]\n",
    "        p += 1\n",
    "        k += 1\n",
    "\n",
    "    while q < n2:\n",
    "        arr[k] = rightSubArray[q]\n",
    "        q += 1\n",
    "        k += 1\n",
    "\n",
    "def mergeSort(arr, i, j):\n",
    "    if i < j:\n",
    "        mid = i + (j - i) // 2\n",
    "        mergeSort(arr, i, mid)\n",
    "        mergeSort(arr, mid + 1, j)\n",
    "        mergeProcedure(arr, i, mid, j)\n",
    "    return arr\n",
    "\n",
    "arr = [50, 70, 65, 13, 80, 62, 98, 27]\n",
    "i = 0\n",
    "j = len(arr) - 1\n",
    "result = mergeSort(arr, i, j)\n",
    "print(\"Result:\", result)"
   ]
  },
  {
   "cell_type": "markdown",
   "id": "5c693b49",
   "metadata": {},
   "source": [
    "# Applications of Divide and Conquer Implementation of Quick Sort"
   ]
  },
  {
   "cell_type": "code",
   "execution_count": 12,
   "id": "e3a1cd88",
   "metadata": {},
   "outputs": [
    {
     "name": "stdout",
     "output_type": "stream",
     "text": [
      "Sorted array after applying the quickSort is: [5, 10, 20, 34, 50, 70, 89]\n"
     ]
    }
   ],
   "source": [
    "## Implementation using the quickSort algorithm\n",
    "## Recurrence Relation -> T(n) = T(m-p) + T(q-m) + n\n",
    "## Best Case Scenario -> T(n) = T(n/2) + T(n/2) + n => O(n logn)\n",
    "## Worst Case Scenario -> T(n) = T(n-1) + n => O(n^2)\n",
    "## function definition of partition algorithm -> O(n)\n",
    "def partition(arr, p, q):\n",
    "    i = p\n",
    "    ## starting element as a pivot element\n",
    "    pivot = arr[p]\n",
    "    for j in range(i+1, q+1):\n",
    "        if arr[j] <= pivot:\n",
    "            i += 1\n",
    "            ## swap between the arr[i] and arr[j]\n",
    "            arr[i], arr[j] = arr[j], arr[i]\n",
    "    ## swap between the arr[i] and the pivot element\n",
    "    arr[i], arr[p] = arr[p], arr[i]\n",
    "    return i\n",
    "\n",
    "## function definition of quickSort\n",
    "def quickSort(arr, p, q):\n",
    "    if p < q:\n",
    "        ## function calling for partition algorithm\n",
    "        mid = partition(arr, p, q)\n",
    "        ## recursive call for left subtree\n",
    "        ## T(mid-p)\n",
    "        quickSort(arr, p, mid-1)\n",
    "        ## recursive call for right subtree\n",
    "        ## T(q-mid)\n",
    "        quickSort(arr, mid+1, q)\n",
    "    return arr\n",
    "\n",
    "## Driver code\n",
    "arr = [20, 10, 5, 70, 50, 89, 34]\n",
    "p = 0\n",
    "q = len(arr) - 1\n",
    "## function calling\n",
    "result = quickSort(arr, p, q)\n",
    "print(\"Sorted array after applying the quickSort is:\", result)"
   ]
  },
  {
   "cell_type": "code",
   "execution_count": 8,
   "id": "2b169d85",
   "metadata": {},
   "outputs": [
    {
     "name": "stdout",
     "output_type": "stream",
     "text": [
      "Result :  [5, 10, 20, 34, 47, 50, 70, 89]\n"
     ]
    }
   ],
   "source": [
    "def partitionAlgo(arr,p,q):\n",
    "    i = p\n",
    "    pivot = arr[p]\n",
    "    for j in range(i+1,q+1):\n",
    "        if arr[j] <= pivot:\n",
    "            i+=1\n",
    "            arr[i], arr[j] = arr[j],arr[i]\n",
    "    arr[p], arr[i] = arr[i],arr[p]\n",
    "    return i\n",
    "        \n",
    "def quickSort(arr,p,q):\n",
    "    if p < q:\n",
    "        mid = partitionAlgo(arr,p,q)\n",
    "        quickSort(arr,p,mid-1)\n",
    "        quickSort(arr,mid+1,q)\n",
    "    return arr\n",
    "\n",
    "## Driver code\n",
    "arr = [20,10,5,70,50,89,34,47]\n",
    "p = 0\n",
    "q = len(arr)-1\n",
    "result = quickSort(arr,p,q)\n",
    "print(\"Result : \",result)"
   ]
  },
  {
   "cell_type": "markdown",
   "id": "ba2f8301",
   "metadata": {},
   "source": [
    "# Applications of Divide and Conquer Randomized QuickSort"
   ]
  },
  {
   "cell_type": "code",
   "execution_count": 21,
   "id": "e91fc694",
   "metadata": {},
   "outputs": [
    {
     "name": "stdout",
     "output_type": "stream",
     "text": [
      "Sorted array after applying the quickSort is: [5, 10, 20, 34, 50, 70, 89]\n"
     ]
    }
   ],
   "source": [
    "## Implementation using the randomized quickSort algorithm\n",
    "## Recurrence Relation -> T(n) = T(m-p) + T(q-m) + n\n",
    "## Best Case Scenario -> T(n) = T(n/2) + T(n/2) + n => O(n logn)\n",
    "## Worst Case Scenario -> T(n) = T(n-1) + n => O(n^2)\n",
    "\n",
    "import random\n",
    "\n",
    "## function definition of randomizedParition\n",
    "## pivot element is randomly calculating using random function\n",
    "def randomizedPartition(arr, p, q):\n",
    "    random_pivot = random.randrange(p,q)\n",
    "    ## swap between the arr[random_pivot] and arr[p]\n",
    "    arr[p], arr[random_pivot] = arr[random_pivot], arr[p]\n",
    "    ## function call\n",
    "    return partition(arr, p, q)\n",
    "\n",
    "## function definition of partition algorithm -> O(n)\n",
    "def partition(arr, p, q):\n",
    "    i = p\n",
    "    ## starting element as a pivot element\n",
    "    pivot = arr[p]\n",
    "    for j in range(i+1, q+1):\n",
    "        if arr[j] <= pivot:\n",
    "            i += 1\n",
    "            ## swap between the arr[i] and arr[j]\n",
    "            arr[i], arr[j] = arr[j], arr[i]\n",
    "    ## swap between the arr[i] and the pivot element\n",
    "    arr[i], arr[p] = arr[p], arr[i]\n",
    "    return i\n",
    "\n",
    "## function definition of quickSort\n",
    "def quickSort(arr, p, q):\n",
    "    if p < q:\n",
    "        ## function calling for partition algorithm\n",
    "        mid = randomizedPartition(arr, p, q)\n",
    "        ## recursive call for left subtree\n",
    "        ## T(mid-p)\n",
    "        quickSort(arr, p, mid-1)\n",
    "        ## recursive call for right subtree\n",
    "        ## T(q-mid)\n",
    "        quickSort(arr, mid+1, q)\n",
    "    return arr\n",
    "\n",
    "## Driver code\n",
    "arr = [20, 10, 5, 70, 50, 89, 34]\n",
    "p = 0\n",
    "q = len(arr) - 1\n",
    "## function calling\n",
    "result = quickSort(arr, p, q)\n",
    "print(\"Sorted array after applying the quickSort is:\", result)"
   ]
  },
  {
   "cell_type": "code",
   "execution_count": 31,
   "id": "1c8f12e2",
   "metadata": {},
   "outputs": [
    {
     "name": "stdout",
     "output_type": "stream",
     "text": [
      "Result :  [5, 10, 20, 34, 50, 70, 89]\n"
     ]
    }
   ],
   "source": [
    "def partitonAlgo(arr,p,q):\n",
    "    i = p\n",
    "    pivot = arr[p]\n",
    "    \n",
    "    for j in range(i+1,q+1):\n",
    "        if arr[j] < pivot:\n",
    "            i+=1\n",
    "            arr[i],arr[j] = arr[j],arr[i]\n",
    "    arr[i],arr[p] = arr[p],arr[i]\n",
    "    return i\n",
    "\n",
    "def randomizedPartitionAlgo(arr,p,q):\n",
    "    pivot_random = random.randrange(p,q)\n",
    "    arr[pivot_random],arr[p] = arr[p],arr[pivot_random]\n",
    "    return partitonAlgo(arr,p,q)\n",
    "\n",
    "def quickSort(arr,p,q):\n",
    "    if p < q:\n",
    "        mid = randomizedPartitionAlgo(arr,p,q)\n",
    "        quickSort(arr,p,mid-1)\n",
    "        quickSort(arr,mid+1,q)\n",
    "    return arr\n",
    "\n",
    "arr = [20, 10, 5, 70, 50, 89, 34]\n",
    "p = 0\n",
    "q = len(arr)-1\n",
    "result1 = quickSort(arr,p,q)\n",
    "print(\"Result : \",result1)"
   ]
  },
  {
   "cell_type": "markdown",
   "id": "cca951ab",
   "metadata": {},
   "source": [
    "# Applications of Divide and Conquer Implementation of Selection Procedure"
   ]
  },
  {
   "cell_type": "markdown",
   "id": "f106c245",
   "metadata": {},
   "source": [
    "## Implementing a selection algorithm to find the k-th smallest element in an array using the partition algorithm"
   ]
  },
  {
   "cell_type": "code",
   "execution_count": 56,
   "id": "7dd23000",
   "metadata": {},
   "outputs": [
    {
     "name": "stdout",
     "output_type": "stream",
     "text": [
      "Result :  20\n"
     ]
    }
   ],
   "source": [
    "def partitionAlgo(arr,p,q):\n",
    "    i = p\n",
    "    pivot = arr[p]\n",
    "    for j in range(i+1,q+1):\n",
    "        if arr[j] <= pivot:\n",
    "            i+=1\n",
    "            arr[i],arr[j] = arr[j], arr[i]\n",
    "    arr[i],arr[p] = arr[p],arr[i]\n",
    "    return i+1\n",
    "\n",
    "def selectionProcedure(arr, p, q, k):\n",
    "    if len(arr) == 1:\n",
    "        return arr[p]\n",
    "    else:\n",
    "        m = partitionAlgo(arr,p,q)\n",
    "        if m == k:\n",
    "            return arr[m-1]\n",
    "        elif m < k:\n",
    "            return selectionProcedure(arr,m,q,k)\n",
    "        else:\n",
    "            return selectionProcedure(arr,p,m-2,k)\n",
    "\n",
    "\n",
    "arr = [20, 70, 50, 48, 98, 12, 10, 43]\n",
    "k = 3\n",
    "## [10, 12, 20, 43, 48, 50, 70, 98]\n",
    "## [1, 2, 3, 4, 5, 6, 7, 8]\n",
    "p = 0\n",
    "q = len(arr) - 1\n",
    "result = selectionProcedure(arr, p, q, k)\n",
    "print(\"Result : \", result)"
   ]
  },
  {
   "cell_type": "markdown",
   "id": "53b9b011",
   "metadata": {},
   "source": [
    "#  Applications of Divide and Conquer Count Of number of an inversions"
   ]
  },
  {
   "cell_type": "code",
   "execution_count": 75,
   "id": "2da6b8fd",
   "metadata": {},
   "outputs": [
    {
     "name": "stdout",
     "output_type": "stream",
     "text": [
      "Sorted Array: [10, 15, 20, 30, 50, 60, 70, 80]\n",
      "Number of inversions: 17\n"
     ]
    }
   ],
   "source": [
    "def merge_sort(arr):\n",
    "    if len(arr) <= 1:\n",
    "        return arr, 0\n",
    "    \n",
    "    mid = len(arr) // 2\n",
    "    left, inv_left = merge_sort(arr[:mid])\n",
    "    right, inv_right = merge_sort(arr[mid:])\n",
    "    merged, inv_merge = merge(left, right)\n",
    "    \n",
    "    inversions = inv_left + inv_right + inv_merge\n",
    "    return merged, inversions\n",
    "\n",
    "def merge(left, right):\n",
    "    merged = []\n",
    "    inversions = 0\n",
    "    i, j = 0, 0\n",
    "    \n",
    "    while i < len(left) and j < len(right):\n",
    "        if left[i] <= right[j]:\n",
    "            merged.append(left[i])\n",
    "            i += 1\n",
    "        else:\n",
    "            merged.append(right[j])\n",
    "            inversions += len(left) - i\n",
    "            j += 1\n",
    "    \n",
    "    merged.extend(left[i:])\n",
    "    merged.extend(right[j:])\n",
    "    \n",
    "    return merged, inversions\n",
    "\n",
    "# Example usage\n",
    "arr = [70,50,60,10,20,30,80,15]\n",
    "sorted_arr, inversions = merge_sort(arr)\n",
    "print(\"Sorted Array:\", sorted_arr)\n",
    "print(\"Number of inversions:\", inversions)\n"
   ]
  },
  {
   "cell_type": "code",
   "execution_count": 84,
   "id": "baff6014",
   "metadata": {},
   "outputs": [
    {
     "name": "stdout",
     "output_type": "stream",
     "text": [
      "Sorted Array: [10, 15, 20, 30, 50, 60, 70, 80]\n",
      "Number of inversions: 17\n"
     ]
    }
   ],
   "source": [
    "def mergeSort(arr):\n",
    "    if len(arr) == 1:\n",
    "        return arr,0\n",
    "    else:\n",
    "        mid = len(arr)//2\n",
    "        left, inv_left = mergeSort(arr[:mid])\n",
    "        right, inv_right = mergeSort(arr[mid:])\n",
    "        merged, inv_merge = merge(left,right)\n",
    "        inversions = inv_left + inv_right + inv_merge\n",
    "    return merged, inversions\n",
    "\n",
    "def merge(left,right):\n",
    "    merged = []\n",
    "    i,j = 0,0\n",
    "    inversions = 0\n",
    "    while i < len(left) and j < len(right):\n",
    "        if left[i] <= right[j]:\n",
    "            merged.append(left[i])\n",
    "            i+=1\n",
    "        else:\n",
    "            merged.append(right[j])\n",
    "            inversions += len(left)-i\n",
    "            j+=1        \n",
    "    merged.extend(left[i:])\n",
    "    merged.extend(right[j:])\n",
    "    return merged, inversions\n",
    "\n",
    "arr = [70,50,60,10,20,30,80,15]\n",
    "sorted_arr, inversions = mergeSort(arr)\n",
    "print(\"Sorted Array:\", sorted_arr)\n",
    "print(\"Number of inversions:\", inversions)"
   ]
  },
  {
   "cell_type": "code",
   "execution_count": 89,
   "id": "78ab6bc1",
   "metadata": {},
   "outputs": [
    {
     "name": "stdout",
     "output_type": "stream",
     "text": [
      "Sorted List :  [10, 15, 20, 30, 50, 60, 70, 80]\n",
      "Inversions :  17\n"
     ]
    }
   ],
   "source": [
    "def mergeSort(arr):\n",
    "    if len(arr) == 1:\n",
    "        return arr,0\n",
    "    else:\n",
    "        mid = len(arr)//2\n",
    "        left, inv_left = mergeSort(arr[:mid])\n",
    "        right, inv_right = mergeSort(arr[mid:])\n",
    "        merged, inv_merge = merge(left,right)\n",
    "        inversions = inv_left+inv_right+inv_merge\n",
    "    return merged, inversions\n",
    "\n",
    "def merge(left,right):\n",
    "    merge = []\n",
    "    i,j = 0,0\n",
    "    inversion = 0\n",
    "    while i < len(left) and j < len(right):\n",
    "        if left[i] <= right[j]:\n",
    "            merge.append(left[i])\n",
    "            i+=1\n",
    "        else:\n",
    "            merge.append(right[j])\n",
    "            inversion += len(left)-i\n",
    "            j+=1\n",
    "    merge.extend(left[i:])\n",
    "    merge.extend(right[j:])\n",
    "    return merge, inversion\n",
    "\n",
    "arr = [70,50,60,10,20,30,80,15]\n",
    "sorted_arr, inversions = mergeSort(arr)\n",
    "print(\"Sorted List : \",sorted_arr)\n",
    "print(\"Inversions : \",inversions)"
   ]
  },
  {
   "cell_type": "markdown",
   "id": "d9f913da",
   "metadata": {},
   "source": [
    "# Insertion of a node in Linked List Front"
   ]
  },
  {
   "cell_type": "code",
   "execution_count": 124,
   "id": "f6b41c90",
   "metadata": {},
   "outputs": [
    {
     "name": "stdout",
     "output_type": "stream",
     "text": [
      "9  27  53  15  42  "
     ]
    }
   ],
   "source": [
    "class Node:\n",
    "    def __init__(self, data):\n",
    "        self.data = data\n",
    "        self.next = None\n",
    "        \n",
    "class LinkedList:\n",
    "    def __init__(self):\n",
    "        self.head = None\n",
    "        \n",
    "    def beginningAtFront(self,new_data):\n",
    "        new_node = Node(new_data)\n",
    "        new_node.next = self.head\n",
    "        self.head = new_node\n",
    "        \n",
    "    def printLinkedList(self):\n",
    "        temp = self.head\n",
    "        while temp:\n",
    "            print(str(temp.data)+\" \", end=\" \")\n",
    "            temp = temp.next\n",
    "            \n",
    "llist = LinkedList()\n",
    "llist.beginningAtFront(42)\n",
    "llist.beginningAtFront(15)\n",
    "llist.beginningAtFront(53)\n",
    "llist.beginningAtFront(27)\n",
    "llist.beginningAtFront(9)\n",
    "llist.printLinkedList()"
   ]
  },
  {
   "cell_type": "markdown",
   "id": "85b298c6",
   "metadata": {},
   "source": [
    "#  Insertion of a node in Linked List End"
   ]
  },
  {
   "cell_type": "code",
   "execution_count": 126,
   "id": "62d4ec36",
   "metadata": {},
   "outputs": [
    {
     "name": "stdout",
     "output_type": "stream",
     "text": [
      "12  8  9  10  "
     ]
    }
   ],
   "source": [
    "class Node:\n",
    "    def __init__(self, data):\n",
    "        self.data = data\n",
    "        self.next = None\n",
    "\n",
    "class LinkedList:\n",
    "    def __init__(self):\n",
    "        self.head = None\n",
    "    \n",
    "    ## insert at the front/beginning of the linked list\n",
    "    def insertAtEnd(self, new_data):\n",
    "        ## creation of the new node\n",
    "        new_node = Node(new_data)\n",
    "        \n",
    "        ## linked list is empty\n",
    "        if self.head is None:\n",
    "            self.head = new_node\n",
    "            return\n",
    "        \n",
    "        ## insertion at the end\n",
    "        temp = self.head\n",
    "        while temp.next:\n",
    "            temp = temp.next\n",
    "        \n",
    "        temp.next = new_node\n",
    "    \n",
    "    ## print the linked list\n",
    "    def printList(self):\n",
    "        temp = self.head\n",
    "        while temp:\n",
    "            print(str(temp.data)+\" \",end=\" \")\n",
    "            temp = temp.next\n",
    "\n",
    "## Driver code\n",
    "llist = LinkedList()\n",
    "## function calling\n",
    "llist.insertAtEnd(12)\n",
    "llist.insertAtEnd(8)\n",
    "llist.insertAtEnd(9)\n",
    "llist.insertAtEnd(10)\n",
    "llist.printList()"
   ]
  },
  {
   "cell_type": "code",
   "execution_count": 144,
   "id": "63ec807b",
   "metadata": {},
   "outputs": [
    {
     "name": "stdout",
     "output_type": "stream",
     "text": [
      "43  56  74  23  "
     ]
    }
   ],
   "source": [
    "class Node:\n",
    "    def __init__(self,data):\n",
    "        self.data = data\n",
    "        self.next = None\n",
    "        \n",
    "class LinkedList:\n",
    "    def __init__(self):\n",
    "        self.head = None\n",
    "        \n",
    "    def insertAtEnd(self,new_data):\n",
    "        new_node = Node(new_data)\n",
    "        if self.head is None:\n",
    "            self.head = new_node\n",
    "            return\n",
    "        \n",
    "        temp = self.head\n",
    "        while temp.next:\n",
    "            temp = temp.next\n",
    "        temp.next = new_node\n",
    "        \n",
    "    def printLinkedList(self):\n",
    "        temp = self.head\n",
    "        while temp:\n",
    "            print(str(temp.data)+\" \", end = \" \")\n",
    "            temp = temp.next\n",
    "        \n",
    "llist = LinkedList()\n",
    "llist.insertAtEnd(43)\n",
    "llist.insertAtEnd(56)\n",
    "llist.insertAtEnd(74)\n",
    "llist.insertAtEnd(23)\n",
    "llist.printLinkedList()"
   ]
  },
  {
   "cell_type": "markdown",
   "id": "25e7eb8d",
   "metadata": {},
   "source": [
    "#  Insertion of a node in Linked List End After a given node"
   ]
  },
  {
   "cell_type": "code",
   "execution_count": 145,
   "id": "1931a814",
   "metadata": {},
   "outputs": [
    {
     "name": "stdout",
     "output_type": "stream",
     "text": [
      "Original Linked List\n",
      "12  8  9  10  16  14  \n",
      "Insertion after any node\n",
      "12  8  23  9  10  16  14  "
     ]
    }
   ],
   "source": [
    "class Node:\n",
    "    def __init__(self, data):\n",
    "        self.data = data\n",
    "        self.next = None\n",
    "\n",
    "class LinkedList:\n",
    "    def __init__(self):\n",
    "        self.head = None\n",
    "        \n",
    "     ## insert at the ending of the linked list\n",
    "    def insertAtEnd(self, new_data):\n",
    "        ## creation of the new node\n",
    "        new_node = Node(new_data)\n",
    "        \n",
    "        ## linked list is empty\n",
    "        if self.head is None:\n",
    "            self.head = new_node\n",
    "            return\n",
    "        \n",
    "        ## insertion at the end\n",
    "        temp = self.head\n",
    "        while temp.next:\n",
    "            temp = temp.next\n",
    "        \n",
    "        temp.next = new_node\n",
    "    \n",
    "    ##insertion after the node in the linked list\n",
    "    def insertAfterNode(self, prev_node, new_data):\n",
    "        if prev_node is None:\n",
    "            print(\"Given node must be available inside the linked list\")\n",
    "            return\n",
    "        new_node = Node(new_data)\n",
    "        new_node.next = prev_node.next\n",
    "        prev_node.next = new_node\n",
    "    \n",
    "    \n",
    "    ## print the linked list\n",
    "    def printList(self):\n",
    "        temp = self.head\n",
    "        while temp:\n",
    "            print(str(temp.data)+\" \",end=\" \")\n",
    "            temp = temp.next\n",
    "   \n",
    "    \n",
    "## Driver code\n",
    "llist = LinkedList()\n",
    "## function calling\n",
    "llist.insertAtEnd(12)\n",
    "llist.insertAtEnd(8)\n",
    "llist.insertAtEnd(9)\n",
    "llist.insertAtEnd(10)\n",
    "llist.insertAtEnd(16)\n",
    "llist.insertAtEnd(14)\n",
    "print(\"Original Linked List\")\n",
    "llist.printList()\n",
    "print()\n",
    "llist.insertAfterNode(llist.head.next, 23)\n",
    "print(\"Insertion after any node\")\n",
    "llist.printList()"
   ]
  },
  {
   "cell_type": "code",
   "execution_count": 167,
   "id": "020cc15c",
   "metadata": {},
   "outputs": [
    {
     "name": "stdout",
     "output_type": "stream",
     "text": [
      "Original List : \n",
      "13  23  34  56  43  56  87  34  \n",
      " After Insertion : \n",
      "13  23  34  91  56  43  56  87  34  "
     ]
    }
   ],
   "source": [
    "class Node:\n",
    "    def __init__(self, data):\n",
    "        self.data = data\n",
    "        self.next = None\n",
    "        \n",
    "class LinkedList:\n",
    "    def __init__(self):\n",
    "        self.head = None\n",
    "        \n",
    "    def insertAtFront(self, new_data):\n",
    "        new_node = Node(new_data)\n",
    "        new_node.next = self.head\n",
    "        self.head = new_node\n",
    "    \n",
    "    def insertAtEnd(self,new_data):\n",
    "        new_node = Node(new_data)\n",
    "        if self.head is None:\n",
    "            self.head = new_node\n",
    "            return\n",
    "        \n",
    "        temp = self.head\n",
    "        while temp.next:\n",
    "            temp = temp.next\n",
    "        temp.next = new_node\n",
    "        \n",
    "    def insertAfterNewNode(self, prev_node, new_data):\n",
    "        new_node = Node(new_data)\n",
    "        new_node.next = prev_node.next\n",
    "        prev_node.next = new_node\n",
    "        \n",
    "    def printLinkedList(self):\n",
    "        temp = self.head\n",
    "        while temp:\n",
    "            print(str(temp.data)+\" \", end = \" \")\n",
    "            temp = temp.next\n",
    "            \n",
    "        \n",
    "llist = LinkedList()\n",
    "llist.insertAtFront(56)\n",
    "llist.insertAtFront(34)\n",
    "llist.insertAtFront(23)\n",
    "llist.insertAtFront(13)\n",
    "llist.insertAtEnd(43)\n",
    "llist.insertAtEnd(56)\n",
    "llist.insertAtEnd(87)\n",
    "llist.insertAtEnd(34)\n",
    "print(\"Original List : \")\n",
    "llist.printLinkedList()\n",
    "llist.insertAfterNewNode(llist.head.next.next,91)\n",
    "print(\"\\n After Insertion : \")\n",
    "llist.printLinkedList()"
   ]
  },
  {
   "cell_type": "markdown",
   "id": "2a050689",
   "metadata": {},
   "source": [
    "# Deletion of a node in Linked List"
   ]
  },
  {
   "cell_type": "code",
   "execution_count": 168,
   "id": "46bb0967",
   "metadata": {},
   "outputs": [
    {
     "name": "stdout",
     "output_type": "stream",
     "text": [
      "Original Linked List\n",
      "12  8  9  10  14  16  \n",
      "Linked List after deletion\n",
      "12  8  9  10  16  "
     ]
    }
   ],
   "source": [
    "class Node:\n",
    "    def __init__(self, data):\n",
    "        self.data = data\n",
    "        self.next = None\n",
    "\n",
    "class LinkedList:\n",
    "    def __init__(self):\n",
    "        self.head = None\n",
    "    \n",
    "    ## insert at the end of the linked list\n",
    "    def insertAtEnd(self, new_data):\n",
    "        ## creation of the new node\n",
    "        new_node = Node(new_data)\n",
    "        \n",
    "        ## linked list is empty\n",
    "        if self.head is None:\n",
    "            self.head = new_node\n",
    "            return\n",
    "        \n",
    "        ## insertion at the end\n",
    "        temp = self.head\n",
    "        while temp.next:\n",
    "            temp = temp.next\n",
    "        \n",
    "        temp.next = new_node\n",
    "        \n",
    "    ## deleting a node inside the linked list\n",
    "    def deleteNode(self, pos):\n",
    "        ## linked list is empty or not\n",
    "        if self.head is None:\n",
    "            return\n",
    "        \n",
    "        temp = self.head\n",
    "        for i in range(pos-1):\n",
    "            temp = temp.next\n",
    "            if temp is None:\n",
    "                return\n",
    "        next_ptr = temp.next.next\n",
    "        temp.next = None\n",
    "        temp.next = next_ptr\n",
    "    \n",
    "    \n",
    "    ## print the linked list\n",
    "    def printList(self):\n",
    "        temp = self.head\n",
    "        while temp:\n",
    "            print(str(temp.data)+\" \",end=\" \")\n",
    "            temp = temp.next\n",
    "\n",
    "  \n",
    "            \n",
    "## Driver code\n",
    "llist = LinkedList()\n",
    "## function calling\n",
    "llist.insertAtEnd(12)\n",
    "llist.insertAtEnd(8)\n",
    "llist.insertAtEnd(9)\n",
    "llist.insertAtEnd(10)\n",
    "llist.insertAtEnd(14)\n",
    "llist.insertAtEnd(16)\n",
    "print(\"Original Linked List\")\n",
    "llist.printList()\n",
    "print()\n",
    "llist.deleteNode(4)\n",
    "print(\"Linked List after deletion\")\n",
    "llist.printList()"
   ]
  },
  {
   "cell_type": "code",
   "execution_count": 181,
   "id": "5f06b79d",
   "metadata": {},
   "outputs": [
    {
     "name": "stdout",
     "output_type": "stream",
     "text": [
      "\n",
      " Original List : \n",
      "43  45  54  56  65  \n",
      " After Insertion : \n",
      "43  45  54  41  56  65  \n",
      " After Deletion\n",
      "43  45  41  65  "
     ]
    }
   ],
   "source": [
    "class Node:\n",
    "    def __init__(self,data):\n",
    "        self.data = data\n",
    "        self.next = None\n",
    "        \n",
    "class LinkedList:\n",
    "    def __init__(self):\n",
    "        self.head = None\n",
    "        \n",
    "    def insertAtFront(self, new_data):\n",
    "        new_node = Node(new_data)\n",
    "        new_node.next = self.head\n",
    "        self.head = new_node\n",
    "        \n",
    "    def insertAtEnd(self, new_data):\n",
    "        new_node = Node(new_data)\n",
    "        if self.head is None:\n",
    "            self.head = new_node\n",
    "            return\n",
    "        \n",
    "        temp = self.head\n",
    "        while temp.next:\n",
    "            temp = temp.next\n",
    "        temp.next = new_node\n",
    "        \n",
    "    def insertAfterNode(self,prev_node,new_data):\n",
    "        new_node = Node(new_data)\n",
    "        new_node.next = prev_node.next\n",
    "        prev_node.next = new_node\n",
    "        \n",
    "    def deleteNode(self,pos):\n",
    "        if self.head is None:\n",
    "            return\n",
    "        \n",
    "        temp = self.head\n",
    "        for i in range(pos-1):\n",
    "            temp = temp.next\n",
    "            if temp is None:\n",
    "                return\n",
    "            ptr_next = temp.next.next\n",
    "            temp.next = None\n",
    "            temp.next = ptr_next\n",
    "        \n",
    "    def printLinkedList(self):\n",
    "        temp = self.head\n",
    "        while temp:\n",
    "            print(str(temp.data)+\" \",end = \" \")\n",
    "            temp = temp.next\n",
    "        \n",
    "llist = LinkedList()\n",
    "# llist.insertAtFront(32)\n",
    "# llist.insertAtFront(45)\n",
    "# llist.insertAtFront(76)\n",
    "# llist.insertAtFront(34)\n",
    "llist.insertAtEnd(43)\n",
    "llist.insertAtEnd(45)\n",
    "llist.insertAtEnd(54)\n",
    "llist.insertAtEnd(56)\n",
    "llist.insertAtEnd(65)\n",
    "print(\"\\n Original List : \")\n",
    "llist.printLinkedList()\n",
    "print(\"\\n After Insertion : \")\n",
    "llist.insertAfterNode(llist.head.next.next,41)\n",
    "llist.printLinkedList()\n",
    "llist.deleteNode(3)\n",
    "print(\"\\n After Deletion\")\n",
    "llist.printLinkedList()"
   ]
  },
  {
   "cell_type": "code",
   "execution_count": 190,
   "id": "c8e2dccb",
   "metadata": {},
   "outputs": [
    {
     "name": "stdout",
     "output_type": "stream",
     "text": [
      "\n",
      " Original List : \n",
      "12  43  34  21  \n",
      " After Insertion : \n",
      "12  43  91  34  21  \n",
      " After Deletion : \n",
      "12  43  34  "
     ]
    }
   ],
   "source": [
    "class Node:\n",
    "    def __init__(self, data):\n",
    "        self.data = data\n",
    "        self.next = None\n",
    "        \n",
    "class LinkedList:\n",
    "    def __init__(self):\n",
    "        self.head = None\n",
    "        \n",
    "    def insertAtFront(self,new_data):\n",
    "        new_node = Node(new_data)\n",
    "        new_node.next = self.head\n",
    "        self.head = new_node\n",
    "        \n",
    "    def insertAtEnd(self,new_data):\n",
    "        new_node = Node(new_data)\n",
    "        if self.head is None:\n",
    "            self.head = new_node\n",
    "            return\n",
    "        \n",
    "        temp = self.head\n",
    "        while temp.next:\n",
    "            temp = temp.next\n",
    "        temp.next = new_node\n",
    "        \n",
    "    def insertAfterNode(self,prev_node,new_data):\n",
    "        new_node = Node(new_data)\n",
    "        new_node.next = prev_node.next\n",
    "        prev_node.next = new_node\n",
    "        \n",
    "    def delteNode(self,pos):\n",
    "        if self.head is None:\n",
    "            return\n",
    "        \n",
    "        temp = self.head\n",
    "        for i in range(pos-1):\n",
    "            temp = temp.next\n",
    "            if temp is None:\n",
    "                return\n",
    "            next_ptr = temp.next.next\n",
    "            temp.next = None\n",
    "            temp.next = next_ptr\n",
    "        \n",
    "    def printLinkedList(self):\n",
    "        temp = self.head\n",
    "        while temp:\n",
    "            print(str(temp.data)+\" \",end = \" \")\n",
    "            temp = temp.next\n",
    "            \n",
    "llist = LinkedList()\n",
    "# llist.insertAtFront(31)\n",
    "# llist.insertAtFront(23)\n",
    "# llist.insertAtFront(54)\n",
    "# llist.insertAtFront(12)\n",
    "llist.insertAtEnd(12)\n",
    "llist.insertAtEnd(43)\n",
    "llist.insertAtEnd(34)\n",
    "llist.insertAtEnd(21)\n",
    "print(\"\\n Original List : \")\n",
    "llist.printLinkedList()\n",
    "llist.insertAfterNode(llist.head.next, 91)\n",
    "print(\"\\n After Insertion : \")\n",
    "llist.printLinkedList()\n",
    "llist.delteNode(3)\n",
    "print(\"\\n After Deletion : \")\n",
    "llist.printLinkedList()"
   ]
  },
  {
   "cell_type": "markdown",
   "id": "4c746963",
   "metadata": {},
   "source": [
    "# Searching of a node in Linked List"
   ]
  },
  {
   "cell_type": "code",
   "execution_count": 1,
   "id": "86f25846",
   "metadata": {},
   "outputs": [
    {
     "name": "stdout",
     "output_type": "stream",
     "text": [
      "12  8  9  10  13  18  20  \n",
      "2 is not found\n"
     ]
    }
   ],
   "source": [
    "## Time complexity for searching: O(n)\n",
    "\n",
    "class Node:\n",
    "    def __init__(self, data):\n",
    "        self.data = data\n",
    "        self.next = None\n",
    "\n",
    "class LinkedList:\n",
    "    def __init__(self):\n",
    "        self.head = None\n",
    "    \n",
    "    ## insert at the end of the linked list\n",
    "    def insertAtEnd(self, new_data):\n",
    "        ## creation of the new node\n",
    "        new_node = Node(new_data)\n",
    "        \n",
    "        ## linked list is empty\n",
    "        if self.head is None:\n",
    "            self.head = new_node\n",
    "            return\n",
    "        \n",
    "        ## insertion at the end\n",
    "        temp = self.head\n",
    "        while temp.next:\n",
    "            temp = temp.next\n",
    "        \n",
    "        temp.next = new_node\n",
    "        \n",
    "    ## searching inside the given linked list\n",
    "    def searchData(self, key):\n",
    "        temp = self.head\n",
    "        while temp:\n",
    "            if temp.data == key:\n",
    "                return True\n",
    "            temp = temp.next\n",
    "        return False\n",
    "    \n",
    "    ## print the linked list\n",
    "    def printList(self):\n",
    "        temp = self.head\n",
    "        while temp:\n",
    "            print(str(temp.data)+\" \",end=\" \")\n",
    "            temp = temp.next\n",
    "\n",
    "## Driver code\n",
    "llist = LinkedList()\n",
    "## function calling\n",
    "llist.insertAtEnd(12)\n",
    "llist.insertAtEnd(8)\n",
    "llist.insertAtEnd(9)\n",
    "llist.insertAtEnd(10)\n",
    "llist.insertAtEnd(13)\n",
    "llist.insertAtEnd(18)\n",
    "llist.insertAtEnd(20)\n",
    "llist.printList()\n",
    "print()\n",
    "## searching operation inside the linked list\n",
    "key = 2\n",
    "if(llist.searchData(key)):\n",
    "    print(str(key)+\" is found\")\n",
    "else:\n",
    "    print(str(key)+\" is not found\")"
   ]
  },
  {
   "cell_type": "code",
   "execution_count": 22,
   "id": "2e384749",
   "metadata": {},
   "outputs": [
    {
     "name": "stdout",
     "output_type": "stream",
     "text": [
      "Original List : \n",
      "31  12  54  47  \n",
      "12 is found !\n"
     ]
    }
   ],
   "source": [
    "class Node:\n",
    "    def __init__(self,data):\n",
    "        self.data = data\n",
    "        self.next = None\n",
    "        \n",
    "class LinkedList:\n",
    "    def __init__(self):\n",
    "        self.head = None\n",
    "        \n",
    "    def insertAtEnd(self,new_data):\n",
    "        new_node = Node(new_data)\n",
    "        if self.head is None:\n",
    "            self.head = new_node\n",
    "            return\n",
    "        temp = self.head\n",
    "        while temp.next:\n",
    "            temp = temp.next\n",
    "        temp.next = new_node\n",
    "        \n",
    "    def searchData(self,key):\n",
    "        temp = self.head\n",
    "        while temp:\n",
    "            if temp.data == key:\n",
    "                return True\n",
    "            temp = temp.next\n",
    "        return False     \n",
    "        \n",
    "    def printLinkedList(self):\n",
    "        temp = self.head\n",
    "        while temp:\n",
    "            print(str(temp.data)+\" \", end = \" \")\n",
    "            temp = temp.next\n",
    "        \n",
    "llist = LinkedList()\n",
    "llist.insertAtEnd(31)\n",
    "llist.insertAtEnd(12)\n",
    "llist.insertAtEnd(54)\n",
    "llist.insertAtEnd(47)\n",
    "print(\"Original List : \")\n",
    "llist.printLinkedList()\n",
    "print()\n",
    "key = 12\n",
    "if (llist.searchData(key)):\n",
    "    print(str(key)+\" is found !\")\n",
    "else:\n",
    "    print(str(key)+\" is not found !\")"
   ]
  },
  {
   "cell_type": "markdown",
   "id": "1cd65190",
   "metadata": {},
   "source": [
    "# FAANG Interview Question Reversal of a node in Linked List"
   ]
  },
  {
   "cell_type": "code",
   "execution_count": 23,
   "id": "6ba68696",
   "metadata": {},
   "outputs": [
    {
     "name": "stdout",
     "output_type": "stream",
     "text": [
      "Original Linked List\n",
      "12  8  9  10  12  14  \n",
      "Reversal Linked List\n",
      "14  12  10  9  8  12  "
     ]
    }
   ],
   "source": [
    "class Node:\n",
    "    def __init__(self, data):\n",
    "        self.data = data\n",
    "        self.next = None\n",
    "\n",
    "class LinkedList:\n",
    "    def __init__(self):\n",
    "        self.head = None\n",
    "    \n",
    "    ## insert at the front/beginning of the linked list\n",
    "    def insertAtEnd(self, new_data):\n",
    "        ## creation of the new node\n",
    "        new_node = Node(new_data)\n",
    "        \n",
    "        ## linked list is empty\n",
    "        if self.head is None:\n",
    "            self.head = new_node\n",
    "            return\n",
    "        \n",
    "        ## insertion at the end\n",
    "        temp = self.head\n",
    "        while temp.next:\n",
    "            temp = temp.next\n",
    "        \n",
    "        temp.next = new_node\n",
    "    \n",
    "    ## reversal of the linked list\n",
    "    def reverseList(self):\n",
    "        prev = None\n",
    "        next_ptr = None\n",
    "        curr = self.head\n",
    "        \n",
    "        while curr:\n",
    "            next_ptr = curr.next\n",
    "            curr.next = prev\n",
    "            prev = curr\n",
    "            curr = next_ptr\n",
    "        ## linkage of head node to the last node is required\n",
    "        self.head = prev\n",
    "    \n",
    "    \n",
    "    ## print the linked list\n",
    "    def printList(self):\n",
    "        temp = self.head\n",
    "        while temp:\n",
    "            print(str(temp.data)+\" \",end=\" \")\n",
    "            temp = temp.next\n",
    "   \n",
    "    \n",
    "## Driver code\n",
    "llist = LinkedList()\n",
    "## function calling\n",
    "llist.insertAtEnd(12)\n",
    "llist.insertAtEnd(8)\n",
    "llist.insertAtEnd(9)\n",
    "llist.insertAtEnd(10)\n",
    "llist.insertAtEnd(12)\n",
    "llist.insertAtEnd(14)\n",
    "print(\"Original Linked List\")\n",
    "llist.printList()\n",
    "print()\n",
    "print(\"Reversal Linked List\")\n",
    "llist.reverseList() \n",
    "llist.printList()"
   ]
  },
  {
   "cell_type": "code",
   "execution_count": 60,
   "id": "d25f87cf",
   "metadata": {},
   "outputs": [
    {
     "name": "stdout",
     "output_type": "stream",
     "text": [
      "Original List : \n",
      "43  23  12  46  91  \n",
      "Reversed List : \n",
      "91  46  12  23  43  "
     ]
    }
   ],
   "source": [
    "class Node:\n",
    "    def __init__(self,data):\n",
    "        self.data = data\n",
    "        self.next = None\n",
    "        \n",
    "class LinkedList:\n",
    "    def __init__(self):\n",
    "        self.head = None\n",
    "    \n",
    "    def insertAtEnd(self,new_data):\n",
    "        new_node = Node(new_data)\n",
    "        if self.head is None:\n",
    "            self.head = new_node\n",
    "            return\n",
    "        temp = self.head\n",
    "        while temp.next:\n",
    "            temp = temp.next\n",
    "        temp.next = new_node\n",
    "        \n",
    "    def reversalData(self):\n",
    "        prev = None\n",
    "        next_ptr = None\n",
    "        curr = self.head\n",
    "        while curr:\n",
    "            next_ptr = curr.next\n",
    "            curr.next = prev\n",
    "            prev = curr\n",
    "            curr = next_ptr\n",
    "        self.head = prev\n",
    "        \n",
    "    def printLinkedList(self):\n",
    "        temp = self.head\n",
    "        while temp:\n",
    "            print(str(temp.data)+\" \", end = \" \")\n",
    "            temp = temp.next\n",
    "            \n",
    "llist = LinkedList()\n",
    "llist.insertAtEnd(43)\n",
    "llist.insertAtEnd(23)\n",
    "llist.insertAtEnd(12)\n",
    "llist.insertAtEnd(46)\n",
    "llist.insertAtEnd(91)\n",
    "print(\"Original List : \")\n",
    "llist.printLinkedList()\n",
    "print()\n",
    "print(\"Reversed List : \")\n",
    "llist.reversalData()\n",
    "llist.printLinkedList()"
   ]
  },
  {
   "cell_type": "markdown",
   "id": "344d1227",
   "metadata": {},
   "source": [
    "# FAANG Interview Question Count of all nodes in Linked List"
   ]
  },
  {
   "cell_type": "code",
   "execution_count": 58,
   "id": "0930aeee",
   "metadata": {},
   "outputs": [
    {
     "name": "stdout",
     "output_type": "stream",
     "text": [
      "12  8  9  10  13  16  19  22  29  \n",
      "Total number of nodes inside the linked list is: 9\n"
     ]
    }
   ],
   "source": [
    "class Node:\n",
    "    def __init__(self, data):\n",
    "        self.data = data\n",
    "        self.next = None\n",
    "\n",
    "class LinkedList:\n",
    "    def __init__(self):\n",
    "        self.head = None\n",
    "    \n",
    "    ## insert at the end of the linked list\n",
    "    def insertAtEnd(self, new_data):\n",
    "        ## creation of the new node\n",
    "        new_node = Node(new_data)\n",
    "        \n",
    "        ## linked list is empty\n",
    "        if self.head is None:\n",
    "            self.head = new_node\n",
    "            return\n",
    "        \n",
    "        ## insertion at the end\n",
    "        temp = self.head\n",
    "        while temp.next:\n",
    "            temp = temp.next\n",
    "        \n",
    "        temp.next = new_node\n",
    "    \n",
    "    ## counting of the number of nodes inside the linked list\n",
    "    def findNumbernodes(self):\n",
    "        temp = self.head\n",
    "        count = 0\n",
    "        while temp:\n",
    "            count += 1\n",
    "            temp = temp.next\n",
    "        return count\n",
    "        \n",
    "        \n",
    "    ## print the linked list\n",
    "    def printList(self):\n",
    "        temp = self.head\n",
    "        while temp:\n",
    "            print(str(temp.data)+\" \",end=\" \")\n",
    "            temp = temp.next\n",
    "\n",
    "## Driver code\n",
    "llist = LinkedList()\n",
    "## function calling\n",
    "llist.insertAtEnd(12)\n",
    "llist.insertAtEnd(8)\n",
    "llist.insertAtEnd(9)\n",
    "llist.insertAtEnd(10)\n",
    "llist.insertAtEnd(13)\n",
    "llist.insertAtEnd(16)\n",
    "llist.insertAtEnd(19)\n",
    "llist.insertAtEnd(22)\n",
    "llist.insertAtEnd(29)\n",
    "llist.printList()\n",
    "print()\n",
    "count = llist.findNumbernodes()\n",
    "print(\"Total number of nodes inside the linked list is:\", count)"
   ]
  },
  {
   "cell_type": "code",
   "execution_count": 66,
   "id": "417f1e67",
   "metadata": {},
   "outputs": [
    {
     "name": "stdout",
     "output_type": "stream",
     "text": [
      "Original List : \n",
      "32  23  65  91  73  \n",
      "Count of Node :  5\n"
     ]
    }
   ],
   "source": [
    "class Node:\n",
    "    def __init__(self,data):\n",
    "        self.data = data\n",
    "        self.next = None\n",
    "    \n",
    "class LinkedList:\n",
    "    def __init__(self):\n",
    "        self.head = None\n",
    "        \n",
    "    def insertAtEnd(self,new_data):\n",
    "        new_node = Node(new_data)\n",
    "        if self.head is None:\n",
    "            self.head = new_node\n",
    "            return\n",
    "        \n",
    "        temp = self.head\n",
    "        while temp.next:\n",
    "            temp = temp.next\n",
    "        temp.next = new_node\n",
    "        \n",
    "    def countNumberOfNodes(self):\n",
    "        temp = self.head\n",
    "        count = 0\n",
    "        while temp:\n",
    "            count +=1\n",
    "            temp = temp.next\n",
    "        return count\n",
    "        \n",
    "    def printLinkedList(self):\n",
    "        temp = self.head\n",
    "        while temp:\n",
    "            print(str(temp.data)+\" \", end = \" \")\n",
    "            temp = temp.next\n",
    "            \n",
    "llist = LinkedList()\n",
    "llist.insertAtEnd(32)\n",
    "llist.insertAtEnd(23)\n",
    "llist.insertAtEnd(65)\n",
    "llist.insertAtEnd(91)\n",
    "llist.insertAtEnd(73)\n",
    "print(\"Original List : \")\n",
    "llist.printLinkedList()\n",
    "print()\n",
    "count = llist.countNumberOfNodes()\n",
    "print(\"Count of Node : \",count)"
   ]
  },
  {
   "cell_type": "markdown",
   "id": "e9074f49",
   "metadata": {},
   "source": [
    "# FAANG Interview Question Floyd's Cycle Detection Algorithm"
   ]
  },
  {
   "cell_type": "code",
   "execution_count": 67,
   "id": "9a006e32",
   "metadata": {},
   "outputs": [
    {
     "name": "stdout",
     "output_type": "stream",
     "text": [
      "12  8  9  10  \n",
      "Detected the Loop inside the linked list\n"
     ]
    }
   ],
   "source": [
    "class Node:\n",
    "    def __init__(self, data):\n",
    "        self.data = data\n",
    "        self.next = None\n",
    "\n",
    "class LinkedList:\n",
    "    def __init__(self):\n",
    "        self.head = None\n",
    "    \n",
    "    ## insert at the front/beginning of the linked list\n",
    "    def insertAtEnd(self, new_data):\n",
    "        ## creation of the new node\n",
    "        new_node = Node(new_data)\n",
    "        \n",
    "        ## linked list is empty\n",
    "        if self.head is None:\n",
    "            self.head = new_node\n",
    "            return\n",
    "        \n",
    "        ## insertion at the end\n",
    "        temp = self.head\n",
    "        while temp.next:\n",
    "            temp = temp.next\n",
    "        \n",
    "        temp.next = new_node\n",
    "    \n",
    "    ## detection of the loops inside the linked list\n",
    "    ## Floyd's Cycle Detection Algorithm\n",
    "    def detectLoop(self):\n",
    "        hare = self.head\n",
    "        tortoise = self.head\n",
    "        while tortoise and hare and hare.next:\n",
    "            hare = hare.next.next\n",
    "            tortoise = tortoise.next\n",
    "            if tortoise == hare:\n",
    "                return True\n",
    "        return False\n",
    "    \n",
    "    ## print the linked list\n",
    "    def printList(self):\n",
    "        temp = self.head\n",
    "        while temp:\n",
    "            print(str(temp.data)+\" \",end=\" \")\n",
    "            temp = temp.next\n",
    "\n",
    "    \n",
    "## Driver code\n",
    "llist = LinkedList()\n",
    "## function calling\n",
    "llist.insertAtEnd(12)\n",
    "llist.insertAtEnd(8)\n",
    "llist.insertAtEnd(9)\n",
    "llist.insertAtEnd(10)\n",
    "llist.printList()\n",
    "\n",
    "llist.head.next.next.next = llist.head\n",
    "print()\n",
    "if llist.detectLoop():\n",
    "    print(\"Detected the Loop inside the linked list\")\n",
    "else:\n",
    "    print(\"No Loop\")"
   ]
  },
  {
   "cell_type": "code",
   "execution_count": 75,
   "id": "54bb0fcc",
   "metadata": {},
   "outputs": [
    {
     "name": "stdout",
     "output_type": "stream",
     "text": [
      "42  23  21  81  63  \n",
      "Loop Detected !\n"
     ]
    }
   ],
   "source": [
    "class Node:\n",
    "    def __init__(self,data):\n",
    "        self.data = data\n",
    "        self.next = None\n",
    "        \n",
    "class LinkedList:\n",
    "    def __init__(self):\n",
    "        self.head = None\n",
    "        \n",
    "    def insertAtEnd(self,new_data):\n",
    "        new_node = Node(new_data)\n",
    "        \n",
    "        if self.head is None:\n",
    "            self.head = new_node\n",
    "            return\n",
    "        \n",
    "        temp = self.head\n",
    "        while temp.next:\n",
    "            temp = temp.next\n",
    "        temp.next = new_node\n",
    "        \n",
    "    def cycleDetection(self):\n",
    "        hare = self.head\n",
    "        tortoise = self.head\n",
    "        while hare and tortoise and hare.next:\n",
    "            hare = hare.next.next\n",
    "            tortoise = tortoise.next\n",
    "            if hare == tortoise:\n",
    "                return True\n",
    "        return False\n",
    "        \n",
    "    def printLinkedList(self):\n",
    "        temp = self.head\n",
    "        while temp:\n",
    "            print(str(temp.data)+\" \", end=\" \")\n",
    "            temp = temp.next\n",
    "            \n",
    "llist = LinkedList()\n",
    "llist.insertAtEnd(42)\n",
    "llist.insertAtEnd(23)\n",
    "llist.insertAtEnd(21)\n",
    "llist.insertAtEnd(81)\n",
    "llist.insertAtEnd(63)\n",
    "llist.printLinkedList()\n",
    "\n",
    "llist.head.next.next.next.next = llist.head\n",
    "print()\n",
    "if llist.cycleDetection():\n",
    "    print(\"Loop Detected !\")\n",
    "else:\n",
    "    print(\"No Loop Detected !\") "
   ]
  },
  {
   "cell_type": "markdown",
   "id": "e927c883",
   "metadata": {},
   "source": [
    "# FAANG Interview Question Merge Of two Sorted Linked List"
   ]
  },
  {
   "cell_type": "code",
   "execution_count": 86,
   "id": "301aa60c",
   "metadata": {},
   "outputs": [
    {
     "name": "stdout",
     "output_type": "stream",
     "text": [
      "First Linked List\n",
      "8  9  10  12  14  16  \n",
      "Second Linked List\n",
      "1  5  7  15  90  \n",
      "Merge Lists\n",
      "1  5  7  8  9  10  12  14  15  16  90  "
     ]
    }
   ],
   "source": [
    "## Given the user, two sorted linked list the expected output is to give a fully sorted linked list in \n",
    "## a merged order\n",
    "\n",
    "class Node:\n",
    "    def __init__(self, data):\n",
    "        self.data = data\n",
    "        self.next = None\n",
    "\n",
    "class LinkedList:\n",
    "    def __init__(self):\n",
    "        self.head = None\n",
    "    \n",
    "    ## insert at the front/beginning of the linked list\n",
    "    def insertAtEnd(self, new_data):\n",
    "        ## creation of the new node\n",
    "        new_node = Node(new_data)\n",
    "        \n",
    "        ## linked list is empty\n",
    "        if self.head is None:\n",
    "            self.head = new_node\n",
    "            return\n",
    "        \n",
    "        ## insertion at the end\n",
    "        temp = self.head\n",
    "        while temp.next:\n",
    "            temp = temp.next\n",
    "        \n",
    "        temp.next = new_node\n",
    "    \n",
    "    \n",
    "    ## print the linked list\n",
    "    def printList(self):\n",
    "        temp = self.head\n",
    "        while temp:\n",
    "            print(str(temp.data)+\" \",end=\" \")\n",
    "            temp = temp.next\n",
    "            \n",
    "            \n",
    "\n",
    "    \n",
    "## Driver code\n",
    "llist1 = LinkedList()\n",
    "## function calling\n",
    "llist1.insertAtEnd(8)\n",
    "llist1.insertAtEnd(9)\n",
    "llist1.insertAtEnd(10)\n",
    "llist1.insertAtEnd(12)\n",
    "llist1.insertAtEnd(14)\n",
    "class Node:\n",
    "    def __init__(self, data):\n",
    "        self.data = data\n",
    "        self.next = None\n",
    "\n",
    "class LinkedList:\n",
    "    def __init__(self):\n",
    "        self.head = None\n",
    "    \n",
    "    ## insert at the front/beginning of the linked list\n",
    "    def insertAtEnd(self, new_data):\n",
    "        ## creation of the new node\n",
    "        new_node = Node(new_data)\n",
    "        \n",
    "        ## linked list is empty\n",
    "        if self.head is None:\n",
    "            self.head = new_node\n",
    "            return\n",
    "        \n",
    "        ## insertion at the end\n",
    "        temp = self.head\n",
    "        while temp.next:\n",
    "            temp = temp.next\n",
    "        \n",
    "        temp.next = new_node\n",
    "    \n",
    "    \n",
    "    ## print the linked list\n",
    "    def printList(self):\n",
    "        temp = self.head\n",
    "        while temp:\n",
    "            print(str(temp.data)+\" \",end=\" \")\n",
    "            temp = temp.next\n",
    "\n",
    "            \n",
    "## method definition to merge the lists\n",
    "## Time complexity: \n",
    "def mergeLists(head1, head2):\n",
    "    temp = None\n",
    "    ## llist1 is empty\n",
    "    if head1 is None:\n",
    "        return head2\n",
    "    \n",
    "    ## llist2 is empty\n",
    "    if head2 is None:\n",
    "        return head1\n",
    "    \n",
    "    if head1.data <= head2.data:\n",
    "        temp = head1\n",
    "        ## recursive function calling happened\n",
    "        temp.next = mergeLists(head1.next, head2)\n",
    "    else:\n",
    "        ## recursive function calling happened\n",
    "        temp = head2\n",
    "        temp.next = mergeLists(head1, head2.next)\n",
    "    return temp\n",
    "        \n",
    "    \n",
    "## Driver code\n",
    "llist1 = LinkedList()\n",
    "## function calling\n",
    "llist1.insertAtEnd(8)\n",
    "llist1.insertAtEnd(9)\n",
    "llist1.insertAtEnd(10)\n",
    "llist1.insertAtEnd(12)\n",
    "llist1.insertAtEnd(14)\n",
    "llist1.insertAtEnd(16)\n",
    "print(\"First Linked List\")\n",
    "llist1.printList()\n",
    "print()\n",
    "\n",
    "llist2 = LinkedList()\n",
    "## function calling\n",
    "llist2.insertAtEnd(1)\n",
    "llist2.insertAtEnd(5)\n",
    "llist2.insertAtEnd(7)\n",
    "llist2.insertAtEnd(15)\n",
    "llist2.insertAtEnd(90)\n",
    "print(\"Second Linked List\")\n",
    "llist2.printList()\n",
    "print()\n",
    "\n",
    "llist3 = LinkedList()\n",
    "llist3.head = mergeLists(llist1.head, llist2.head)\n",
    "print(\"Merge Lists\")\n",
    "llist3.printList()"
   ]
  },
  {
   "cell_type": "code",
   "execution_count": 2,
   "id": "7544e2ce",
   "metadata": {},
   "outputs": [
    {
     "name": "stdout",
     "output_type": "stream",
     "text": [
      "Linked List1 : \n",
      "9  13  23  31  42  46  \n",
      "Linked List2 : \n",
      "32  44  53  63  67  85  \n",
      "Merged List : \n",
      "9  13  23  31  32  42  44  46  53  63  67  85  "
     ]
    }
   ],
   "source": [
    "class Node:\n",
    "    def __init__(self,data):\n",
    "        self.data = data\n",
    "        self.next = None\n",
    "        \n",
    "class LinkedList:\n",
    "    def __init__(self):\n",
    "        self.head = None\n",
    "    \n",
    "    def insertAtEnd(self,new_data):\n",
    "        new_node = Node(new_data)\n",
    "        \n",
    "        if self.head is None:\n",
    "            self.head = new_node\n",
    "            return\n",
    "        \n",
    "        temp = self.head\n",
    "        while temp.next:\n",
    "            temp = temp.next\n",
    "        temp.next = new_node\n",
    "        \n",
    "    def printLinkedList(self):\n",
    "        temp = self.head\n",
    "        while temp:\n",
    "            print(str(temp.data)+\" \",end = \" \")\n",
    "            temp = temp.next\n",
    "    \n",
    "def mergeLinkedList(head1,head2):\n",
    "    head = None\n",
    "    if head1 is None:\n",
    "        return head2\n",
    "    if head2 is None:\n",
    "        return head1\n",
    "    if head1.data <= head2.data:\n",
    "        temp = head1\n",
    "        temp.next =  mergeLinkedList(head1.next,head2)\n",
    "    else:\n",
    "        temp = head2\n",
    "        temp.next =  mergeLinkedList(head1,head2.next)\n",
    "    return temp\n",
    "        \n",
    "            \n",
    "llist1 = LinkedList()\n",
    "llist1.insertAtEnd(9)\n",
    "llist1.insertAtEnd(13)\n",
    "llist1.insertAtEnd(23)\n",
    "llist1.insertAtEnd(31)\n",
    "llist1.insertAtEnd(42)\n",
    "llist1.insertAtEnd(46)\n",
    "print(\"Linked List1 : \")\n",
    "llist1.printLinkedList()\n",
    "print()\n",
    "llist2 = LinkedList()\n",
    "llist2.insertAtEnd(32)\n",
    "llist2.insertAtEnd(44)\n",
    "llist2.insertAtEnd(53)\n",
    "llist2.insertAtEnd(63)\n",
    "llist2.insertAtEnd(67)\n",
    "llist2.insertAtEnd(85)\n",
    "print(\"Linked List2 : \")\n",
    "llist2.printLinkedList()\n",
    "\n",
    "llist3 = LinkedList()\n",
    "llist3.head = mergeLinkedList(llist1.head, llist2.head)\n",
    "print()\n",
    "print(\"Merged List : \")\n",
    "llist3.printLinkedList()"
   ]
  },
  {
   "cell_type": "markdown",
   "id": "4f24c444",
   "metadata": {},
   "source": [
    "# Implementation of Stack using array"
   ]
  },
  {
   "cell_type": "code",
   "execution_count": 9,
   "id": "51f57a20",
   "metadata": {},
   "outputs": [],
   "source": [
    "stack = []\n",
    "## Push/Insert the data into the stack\n",
    "stack.append('https://leetcode.com/')\n",
    "stack.append('https://leetcode.com/explore/')\n",
    "stack.append('https://leetcode.com/problemset/all/')\n",
    "stack.append('https://leetcode.com/business/contact/')\n",
    "stack.append('https://leetcode.com/accounts/login/')\n",
    "stack.append('https://leetcode.com/contest/')"
   ]
  },
  {
   "cell_type": "code",
   "execution_count": 10,
   "id": "92958c3f",
   "metadata": {},
   "outputs": [
    {
     "data": {
      "text/plain": [
       "['https://leetcode.com/',\n",
       " 'https://leetcode.com/explore/',\n",
       " 'https://leetcode.com/problemset/all/',\n",
       " 'https://leetcode.com/business/contact/',\n",
       " 'https://leetcode.com/accounts/login/',\n",
       " 'https://leetcode.com/contest/']"
      ]
     },
     "execution_count": 10,
     "metadata": {},
     "output_type": "execute_result"
    }
   ],
   "source": [
    "stack"
   ]
  },
  {
   "cell_type": "code",
   "execution_count": 11,
   "id": "8fd4caf1",
   "metadata": {},
   "outputs": [
    {
     "data": {
      "text/plain": [
       "'https://leetcode.com/contest/'"
      ]
     },
     "execution_count": 11,
     "metadata": {},
     "output_type": "execute_result"
    }
   ],
   "source": [
    "## pop the data from the stack\n",
    "stack.pop()"
   ]
  },
  {
   "cell_type": "code",
   "execution_count": 7,
   "id": "d233d1a2",
   "metadata": {},
   "outputs": [
    {
     "data": {
      "text/plain": [
       "['https://leetcode.com/',\n",
       " 'https://leetcode.com/explore/',\n",
       " 'https://leetcode.com/problemset/all/',\n",
       " 'https://leetcode.com/business/contact/',\n",
       " 'https://leetcode.com/accounts/login/']"
      ]
     },
     "execution_count": 7,
     "metadata": {},
     "output_type": "execute_result"
    }
   ],
   "source": [
    "stack"
   ]
  },
  {
   "cell_type": "code",
   "execution_count": 12,
   "id": "9e6bc2de",
   "metadata": {},
   "outputs": [
    {
     "data": {
      "text/plain": [
       "'https://leetcode.com/accounts/login/'"
      ]
     },
     "execution_count": 12,
     "metadata": {},
     "output_type": "execute_result"
    }
   ],
   "source": [
    "## Peek function inside the stack data structure\n",
    "stack[-1]"
   ]
  },
  {
   "cell_type": "code",
   "execution_count": 13,
   "id": "83853a29",
   "metadata": {},
   "outputs": [
    {
     "data": {
      "text/plain": [
       "['https://leetcode.com/',\n",
       " 'https://leetcode.com/explore/',\n",
       " 'https://leetcode.com/problemset/all/',\n",
       " 'https://leetcode.com/business/contact/',\n",
       " 'https://leetcode.com/accounts/login/']"
      ]
     },
     "execution_count": 13,
     "metadata": {},
     "output_type": "execute_result"
    }
   ],
   "source": [
    "stack"
   ]
  },
  {
   "cell_type": "code",
   "execution_count": 14,
   "id": "6dd80eec",
   "metadata": {},
   "outputs": [
    {
     "data": {
      "text/plain": [
       "'https://leetcode.com/accounts/login/'"
      ]
     },
     "execution_count": 14,
     "metadata": {},
     "output_type": "execute_result"
    }
   ],
   "source": [
    "stack.pop()"
   ]
  },
  {
   "cell_type": "code",
   "execution_count": 15,
   "id": "5d8610d2",
   "metadata": {},
   "outputs": [
    {
     "data": {
      "text/plain": [
       "'https://leetcode.com/business/contact/'"
      ]
     },
     "execution_count": 15,
     "metadata": {},
     "output_type": "execute_result"
    }
   ],
   "source": [
    "stack.pop()"
   ]
  },
  {
   "cell_type": "code",
   "execution_count": 16,
   "id": "39553fba",
   "metadata": {},
   "outputs": [
    {
     "data": {
      "text/plain": [
       "'https://leetcode.com/problemset/all/'"
      ]
     },
     "execution_count": 16,
     "metadata": {},
     "output_type": "execute_result"
    }
   ],
   "source": [
    "stack.pop()"
   ]
  },
  {
   "cell_type": "code",
   "execution_count": 17,
   "id": "071518f4",
   "metadata": {},
   "outputs": [
    {
     "data": {
      "text/plain": [
       "'https://leetcode.com/explore/'"
      ]
     },
     "execution_count": 17,
     "metadata": {},
     "output_type": "execute_result"
    }
   ],
   "source": [
    "stack.pop()"
   ]
  },
  {
   "cell_type": "code",
   "execution_count": 18,
   "id": "eb8f00d9",
   "metadata": {},
   "outputs": [
    {
     "data": {
      "text/plain": [
       "'https://leetcode.com/'"
      ]
     },
     "execution_count": 18,
     "metadata": {},
     "output_type": "execute_result"
    }
   ],
   "source": [
    "stack.pop()"
   ]
  },
  {
   "cell_type": "code",
   "execution_count": 20,
   "id": "bd32331f",
   "metadata": {},
   "outputs": [
    {
     "data": {
      "text/plain": [
       "[]"
      ]
     },
     "execution_count": 20,
     "metadata": {},
     "output_type": "execute_result"
    }
   ],
   "source": [
    "stack"
   ]
  },
  {
   "cell_type": "code",
   "execution_count": 19,
   "id": "a6119543",
   "metadata": {},
   "outputs": [
    {
     "ename": "IndexError",
     "evalue": "pop from empty list",
     "output_type": "error",
     "traceback": [
      "\u001b[1;31m---------------------------------------------------------------------------\u001b[0m",
      "\u001b[1;31mIndexError\u001b[0m                                Traceback (most recent call last)",
      "\u001b[1;32m~\\AppData\\Local\\Temp\\ipykernel_25872\\2667379430.py\u001b[0m in \u001b[0;36m<module>\u001b[1;34m\u001b[0m\n\u001b[1;32m----> 1\u001b[1;33m \u001b[0mstack\u001b[0m\u001b[1;33m.\u001b[0m\u001b[0mpop\u001b[0m\u001b[1;33m(\u001b[0m\u001b[1;33m)\u001b[0m\u001b[1;33m\u001b[0m\u001b[1;33m\u001b[0m\u001b[0m\n\u001b[0m",
      "\u001b[1;31mIndexError\u001b[0m: pop from empty list"
     ]
    }
   ],
   "source": [
    "stack.pop()"
   ]
  },
  {
   "cell_type": "code",
   "execution_count": 22,
   "id": "748abbed",
   "metadata": {},
   "outputs": [
    {
     "data": {
      "text/plain": [
       "['__add__',\n",
       " '__bool__',\n",
       " '__class__',\n",
       " '__class_getitem__',\n",
       " '__contains__',\n",
       " '__copy__',\n",
       " '__delattr__',\n",
       " '__delitem__',\n",
       " '__dir__',\n",
       " '__doc__',\n",
       " '__eq__',\n",
       " '__format__',\n",
       " '__ge__',\n",
       " '__getattribute__',\n",
       " '__getitem__',\n",
       " '__gt__',\n",
       " '__hash__',\n",
       " '__iadd__',\n",
       " '__imul__',\n",
       " '__init__',\n",
       " '__init_subclass__',\n",
       " '__iter__',\n",
       " '__le__',\n",
       " '__len__',\n",
       " '__lt__',\n",
       " '__mul__',\n",
       " '__ne__',\n",
       " '__new__',\n",
       " '__reduce__',\n",
       " '__reduce_ex__',\n",
       " '__repr__',\n",
       " '__reversed__',\n",
       " '__rmul__',\n",
       " '__setattr__',\n",
       " '__setitem__',\n",
       " '__sizeof__',\n",
       " '__str__',\n",
       " '__subclasshook__',\n",
       " 'append',\n",
       " 'appendleft',\n",
       " 'clear',\n",
       " 'copy',\n",
       " 'count',\n",
       " 'extend',\n",
       " 'extendleft',\n",
       " 'index',\n",
       " 'insert',\n",
       " 'maxlen',\n",
       " 'pop',\n",
       " 'popleft',\n",
       " 'remove',\n",
       " 'reverse',\n",
       " 'rotate']"
      ]
     },
     "execution_count": 22,
     "metadata": {},
     "output_type": "execute_result"
    }
   ],
   "source": [
    "## Implementation of Stack using Linked List (circular deque)\n",
    "from collections import deque\n",
    "stack = deque()\n",
    "dir(stack)"
   ]
  },
  {
   "cell_type": "code",
   "execution_count": 23,
   "id": "a08869e9",
   "metadata": {},
   "outputs": [],
   "source": [
    "stack.append('https://leetcode.com/')\n",
    "stack.append('https://leetcode.com/explore/')\n",
    "stack.append('https://leetcode.com/problemset/all/')\n",
    "stack.append('https://leetcode.com/business/contact/')\n",
    "stack.append('https://leetcode.com/accounts/login/')\n",
    "stack.append('https://leetcode.com/contest/')"
   ]
  },
  {
   "cell_type": "code",
   "execution_count": 24,
   "id": "5cf97ac0",
   "metadata": {},
   "outputs": [
    {
     "data": {
      "text/plain": [
       "deque(['https://leetcode.com/',\n",
       "       'https://leetcode.com/explore/',\n",
       "       'https://leetcode.com/problemset/all/',\n",
       "       'https://leetcode.com/business/contact/',\n",
       "       'https://leetcode.com/accounts/login/',\n",
       "       'https://leetcode.com/contest/'])"
      ]
     },
     "execution_count": 24,
     "metadata": {},
     "output_type": "execute_result"
    }
   ],
   "source": [
    "stack"
   ]
  },
  {
   "cell_type": "code",
   "execution_count": 25,
   "id": "7c7655c7",
   "metadata": {},
   "outputs": [
    {
     "data": {
      "text/plain": [
       "'https://leetcode.com/contest/'"
      ]
     },
     "execution_count": 25,
     "metadata": {},
     "output_type": "execute_result"
    }
   ],
   "source": [
    "stack.pop()"
   ]
  },
  {
   "cell_type": "code",
   "execution_count": 26,
   "id": "1c562540",
   "metadata": {},
   "outputs": [
    {
     "data": {
      "text/plain": [
       "deque(['https://leetcode.com/',\n",
       "       'https://leetcode.com/explore/',\n",
       "       'https://leetcode.com/problemset/all/',\n",
       "       'https://leetcode.com/business/contact/',\n",
       "       'https://leetcode.com/accounts/login/'])"
      ]
     },
     "execution_count": 26,
     "metadata": {},
     "output_type": "execute_result"
    }
   ],
   "source": [
    "stack"
   ]
  },
  {
   "cell_type": "code",
   "execution_count": 27,
   "id": "f908f624",
   "metadata": {},
   "outputs": [],
   "source": [
    "## Create your own class and define the function inside that for the stack\n",
    "## data structure\n",
    "class Stack:\n",
    "    def __init__(self):\n",
    "        self.data = deque()\n",
    "    \n",
    "    ## insertion inside the stack data structure\n",
    "    def push(self, data):\n",
    "        self.data.append(data)\n",
    "    \n",
    "    ## deletion inside the stack data structure\n",
    "    def pop(self):\n",
    "        return self.data.pop()\n",
    "    \n",
    "    ## last element inside the stack data structure\n",
    "    def peek(self):\n",
    "        return self.data[-1]\n",
    "    \n",
    "    ## size of the stack\n",
    "    def size(self):\n",
    "        return len(self.data)\n",
    "    \n",
    "    ## to check whether the stack is empty or not\n",
    "    def isEmpty(self):\n",
    "        return len(self.data) == 0\n",
    "        "
   ]
  },
  {
   "cell_type": "code",
   "execution_count": 39,
   "id": "575840d3",
   "metadata": {},
   "outputs": [
    {
     "name": "stdout",
     "output_type": "stream",
     "text": [
      "<bound method Stack.push of <__main__.Stack object at 0x0000016A1C4DF670>>\n",
      "Removed Item :  15\n",
      "Length of List :  4\n",
      "Peek :   14\n",
      "Empty or Not Empty :  False\n"
     ]
    }
   ],
   "source": [
    "class Stack:\n",
    "    def __init__(self):\n",
    "        self.data = deque()\n",
    "        \n",
    "    def push(self,data):\n",
    "        self.data.append(data)\n",
    "        \n",
    "    def pop(self):\n",
    "        return self.data.pop()\n",
    "    \n",
    "    def peek(self):\n",
    "        return self.data[-1]\n",
    "    \n",
    "    def size(self):\n",
    "        return len(self.data)\n",
    "    \n",
    "    def isEmpty(self):\n",
    "        return len(self.data) == 0\n",
    "    \n",
    "s = Stack()\n",
    "s.push(11)\n",
    "s.push(12)\n",
    "s.push(13)\n",
    "s.push(14)\n",
    "s.push(15)\n",
    "print(s.push)\n",
    "print(\"Removed Item : \",s.pop())\n",
    "print(\"Length of List : \",s.size())\n",
    "print(\"Peek :  \",s.peek())\n",
    "print(\"Empty or Not Empty : \",s.isEmpty())"
   ]
  },
  {
   "cell_type": "markdown",
   "id": "35035082",
   "metadata": {},
   "source": [
    "# Implementation of Queue using array and linked list"
   ]
  },
  {
   "cell_type": "code",
   "execution_count": 67,
   "id": "ee4cedf0",
   "metadata": {},
   "outputs": [],
   "source": [
    "## Queue - FIFO (First In First Out)\n",
    "## Enqueue operation in a queue using array data structure\n",
    "ICICI_Mutual_Prudential_Fund = []\n",
    "ICICI_Mutual_Prudential_Fund.insert(0,12)\n",
    "ICICI_Mutual_Prudential_Fund.insert(0,16)\n",
    "ICICI_Mutual_Prudential_Fund.insert(0,19)"
   ]
  },
  {
   "cell_type": "code",
   "execution_count": 62,
   "id": "9a1a0dbf",
   "metadata": {},
   "outputs": [
    {
     "data": {
      "text/plain": [
       "[12, 19, 16]"
      ]
     },
     "execution_count": 62,
     "metadata": {},
     "output_type": "execute_result"
    }
   ],
   "source": [
    "ICICI_Mutual_Prudential_Fund"
   ]
  },
  {
   "cell_type": "code",
   "execution_count": 63,
   "id": "165a39df",
   "metadata": {},
   "outputs": [
    {
     "data": {
      "text/plain": [
       "16"
      ]
     },
     "execution_count": 63,
     "metadata": {},
     "output_type": "execute_result"
    }
   ],
   "source": [
    "ICICI_Mutual_Prudential_Fund.pop()"
   ]
  },
  {
   "cell_type": "code",
   "execution_count": 64,
   "id": "d4e4bd33",
   "metadata": {},
   "outputs": [
    {
     "data": {
      "text/plain": [
       "19"
      ]
     },
     "execution_count": 64,
     "metadata": {},
     "output_type": "execute_result"
    }
   ],
   "source": [
    "## Dequeue operation in a queue using array data structure\n",
    "ICICI_Mutual_Prudential_Fund.pop()"
   ]
  },
  {
   "cell_type": "code",
   "execution_count": 65,
   "id": "f34ac4d8",
   "metadata": {},
   "outputs": [
    {
     "data": {
      "text/plain": [
       "12"
      ]
     },
     "execution_count": 65,
     "metadata": {},
     "output_type": "execute_result"
    }
   ],
   "source": [
    "ICICI_Mutual_Prudential_Fund.pop()"
   ]
  },
  {
   "cell_type": "code",
   "execution_count": 66,
   "id": "d22123fd",
   "metadata": {},
   "outputs": [
    {
     "ename": "IndexError",
     "evalue": "pop from empty list",
     "output_type": "error",
     "traceback": [
      "\u001b[1;31m---------------------------------------------------------------------------\u001b[0m",
      "\u001b[1;31mIndexError\u001b[0m                                Traceback (most recent call last)",
      "\u001b[1;32m~\\AppData\\Local\\Temp\\ipykernel_25872\\1780648776.py\u001b[0m in \u001b[0;36m<module>\u001b[1;34m\u001b[0m\n\u001b[1;32m----> 1\u001b[1;33m \u001b[0mICICI_Mutual_Prudential_Fund\u001b[0m\u001b[1;33m.\u001b[0m\u001b[0mpop\u001b[0m\u001b[1;33m(\u001b[0m\u001b[1;33m)\u001b[0m\u001b[1;33m\u001b[0m\u001b[1;33m\u001b[0m\u001b[0m\n\u001b[0m",
      "\u001b[1;31mIndexError\u001b[0m: pop from empty list"
     ]
    }
   ],
   "source": [
    "ICICI_Mutual_Prudential_Fund.pop()"
   ]
  },
  {
   "cell_type": "code",
   "execution_count": 74,
   "id": "5400b0b9",
   "metadata": {},
   "outputs": [
    {
     "data": {
      "text/plain": [
       "['__add__',\n",
       " '__bool__',\n",
       " '__class__',\n",
       " '__class_getitem__',\n",
       " '__contains__',\n",
       " '__copy__',\n",
       " '__delattr__',\n",
       " '__delitem__',\n",
       " '__dir__',\n",
       " '__doc__',\n",
       " '__eq__',\n",
       " '__format__',\n",
       " '__ge__',\n",
       " '__getattribute__',\n",
       " '__getitem__',\n",
       " '__gt__',\n",
       " '__hash__',\n",
       " '__iadd__',\n",
       " '__imul__',\n",
       " '__init__',\n",
       " '__init_subclass__',\n",
       " '__iter__',\n",
       " '__le__',\n",
       " '__len__',\n",
       " '__lt__',\n",
       " '__mul__',\n",
       " '__ne__',\n",
       " '__new__',\n",
       " '__reduce__',\n",
       " '__reduce_ex__',\n",
       " '__repr__',\n",
       " '__reversed__',\n",
       " '__rmul__',\n",
       " '__setattr__',\n",
       " '__setitem__',\n",
       " '__sizeof__',\n",
       " '__str__',\n",
       " '__subclasshook__',\n",
       " 'append',\n",
       " 'appendleft',\n",
       " 'clear',\n",
       " 'copy',\n",
       " 'count',\n",
       " 'extend',\n",
       " 'extendleft',\n",
       " 'index',\n",
       " 'insert',\n",
       " 'maxlen',\n",
       " 'pop',\n",
       " 'popleft',\n",
       " 'remove',\n",
       " 'reverse',\n",
       " 'rotate']"
      ]
     },
     "execution_count": 74,
     "metadata": {},
     "output_type": "execute_result"
    }
   ],
   "source": [
    "## Enqueue operation in the queue data structure using the Linked List\n",
    "from collections import deque\n",
    "q = deque()\n",
    "dir(q)"
   ]
  },
  {
   "cell_type": "code",
   "execution_count": 75,
   "id": "556cc600",
   "metadata": {},
   "outputs": [],
   "source": [
    "q.appendleft(12)"
   ]
  },
  {
   "cell_type": "code",
   "execution_count": 76,
   "id": "e1184099",
   "metadata": {},
   "outputs": [],
   "source": [
    "q.appendleft(16)\n",
    "q.appendleft(19)"
   ]
  },
  {
   "cell_type": "code",
   "execution_count": 77,
   "id": "81b7b9a1",
   "metadata": {},
   "outputs": [
    {
     "data": {
      "text/plain": [
       "deque([19, 16, 12])"
      ]
     },
     "execution_count": 77,
     "metadata": {},
     "output_type": "execute_result"
    }
   ],
   "source": [
    "q"
   ]
  },
  {
   "cell_type": "code",
   "execution_count": 78,
   "id": "04e0490a",
   "metadata": {},
   "outputs": [
    {
     "data": {
      "text/plain": [
       "12"
      ]
     },
     "execution_count": 78,
     "metadata": {},
     "output_type": "execute_result"
    }
   ],
   "source": [
    "q.pop()"
   ]
  },
  {
   "cell_type": "code",
   "execution_count": 79,
   "id": "8e70fb34",
   "metadata": {},
   "outputs": [
    {
     "data": {
      "text/plain": [
       "16"
      ]
     },
     "execution_count": 79,
     "metadata": {},
     "output_type": "execute_result"
    }
   ],
   "source": [
    "q.pop()"
   ]
  },
  {
   "cell_type": "code",
   "execution_count": 80,
   "id": "e49d7378",
   "metadata": {},
   "outputs": [
    {
     "data": {
      "text/plain": [
       "deque([19])"
      ]
     },
     "execution_count": 80,
     "metadata": {},
     "output_type": "execute_result"
    }
   ],
   "source": [
    "q"
   ]
  },
  {
   "cell_type": "code",
   "execution_count": 81,
   "id": "d2d6d68e",
   "metadata": {},
   "outputs": [],
   "source": [
    "## Create a class of queue with it's method\n",
    "## Create a class of Queue with it's method\n",
    "class Queue:\n",
    "    def __init__(self):\n",
    "        self.buffer = deque()\n",
    "    \n",
    "    def enqueue(self, data):\n",
    "        self.buffer.appendleft(data)\n",
    "    \n",
    "    def isEmpty(self):\n",
    "        return len(self.buffer) == 0\n",
    "    \n",
    "    def size(self):\n",
    "        return len(self.buffer)\n",
    "    \n",
    "    def dequeue(self):\n",
    "        return self.buffer.pop()"
   ]
  },
  {
   "cell_type": "code",
   "execution_count": 82,
   "id": "cab3510b",
   "metadata": {},
   "outputs": [],
   "source": [
    "q = Queue()\n",
    "q.enqueue(12)"
   ]
  },
  {
   "cell_type": "code",
   "execution_count": 83,
   "id": "6f3e94dc",
   "metadata": {},
   "outputs": [],
   "source": [
    "q.enqueue(16)"
   ]
  },
  {
   "cell_type": "code",
   "execution_count": 84,
   "id": "99014f71",
   "metadata": {},
   "outputs": [],
   "source": [
    "q.enqueue(19)"
   ]
  },
  {
   "cell_type": "code",
   "execution_count": 85,
   "id": "e4c1e303",
   "metadata": {},
   "outputs": [
    {
     "data": {
      "text/plain": [
       "3"
      ]
     },
     "execution_count": 85,
     "metadata": {},
     "output_type": "execute_result"
    }
   ],
   "source": [
    "q.size()"
   ]
  },
  {
   "cell_type": "code",
   "execution_count": 86,
   "id": "e2a04915",
   "metadata": {},
   "outputs": [
    {
     "data": {
      "text/plain": [
       "12"
      ]
     },
     "execution_count": 86,
     "metadata": {},
     "output_type": "execute_result"
    }
   ],
   "source": [
    "q.dequeue()"
   ]
  },
  {
   "cell_type": "code",
   "execution_count": 87,
   "id": "5f6d4fba",
   "metadata": {},
   "outputs": [
    {
     "data": {
      "text/plain": [
       "2"
      ]
     },
     "execution_count": 87,
     "metadata": {},
     "output_type": "execute_result"
    }
   ],
   "source": [
    "q.size()"
   ]
  },
  {
   "cell_type": "code",
   "execution_count": 88,
   "id": "9a7a4d07",
   "metadata": {},
   "outputs": [],
   "source": [
    "## Stack and Queue\n",
    "## Insertion and Deletion- O(1)(constant time complexity)\n",
    "## Access and Search for an element - O(n)"
   ]
  },
  {
   "cell_type": "code",
   "execution_count": 95,
   "id": "e18b2da9",
   "metadata": {},
   "outputs": [],
   "source": [
    "class Queue:\n",
    "    def __init__(self):\n",
    "        self.buffer = deque()\n",
    "        \n",
    "    def enqueue(self,data):\n",
    "        self.buffer.append(data)\n",
    "        \n",
    "    def size(self):\n",
    "        return len(self.buffer)\n",
    "        \n",
    "    def isEmpty(self):\n",
    "        return len(self.buffer) == 0\n",
    "    \n",
    "    def dequeue(self):\n",
    "        return self.buffer.pop()"
   ]
  },
  {
   "cell_type": "code",
   "execution_count": 96,
   "id": "d1d700e8",
   "metadata": {},
   "outputs": [],
   "source": [
    "q = Queue()"
   ]
  },
  {
   "cell_type": "code",
   "execution_count": 97,
   "id": "5c650a29",
   "metadata": {},
   "outputs": [],
   "source": [
    "q.enqueue(11)\n",
    "q.enqueue(12)\n",
    "q.enqueue(13)\n",
    "q.enqueue(14)"
   ]
  },
  {
   "cell_type": "code",
   "execution_count": 98,
   "id": "7318a2c3",
   "metadata": {},
   "outputs": [
    {
     "data": {
      "text/plain": [
       "4"
      ]
     },
     "execution_count": 98,
     "metadata": {},
     "output_type": "execute_result"
    }
   ],
   "source": [
    "q.size()"
   ]
  },
  {
   "cell_type": "code",
   "execution_count": 100,
   "id": "b47e4db8",
   "metadata": {},
   "outputs": [
    {
     "data": {
      "text/plain": [
       "14"
      ]
     },
     "execution_count": 100,
     "metadata": {},
     "output_type": "execute_result"
    }
   ],
   "source": [
    "q.dequeue()"
   ]
  },
  {
   "cell_type": "code",
   "execution_count": 101,
   "id": "dfd52973",
   "metadata": {},
   "outputs": [
    {
     "data": {
      "text/plain": [
       "3"
      ]
     },
     "execution_count": 101,
     "metadata": {},
     "output_type": "execute_result"
    }
   ],
   "source": [
    "q.size()"
   ]
  },
  {
   "cell_type": "markdown",
   "id": "af371063",
   "metadata": {},
   "source": [
    "# FAANG Interview Question Valid Parenthesis"
   ]
  },
  {
   "cell_type": "code",
   "execution_count": 121,
   "id": "e64b4a74",
   "metadata": {},
   "outputs": [
    {
     "name": "stdout",
     "output_type": "stream",
     "text": [
      "String contains a valid parenthesis\n"
     ]
    }
   ],
   "source": [
    "## Method Definition\n",
    "## Time complexity: O(n)\n",
    "def isValidParen(string):\n",
    "    open_param = set([\"(\", \"[\", \"{\"])\n",
    "    dictionary = {\"(\":\")\", \"[\":\"]\", \"{\":\"}\"}\n",
    "    stack = []\n",
    "    \n",
    "    for char in string:\n",
    "        if char in open_param:\n",
    "            ## add the element in the stack\n",
    "            stack.append(char)\n",
    "        elif stack and char == dictionary[stack[-1]]:\n",
    "            ## pop/delete the element from the stack\n",
    "            stack.pop()\n",
    "        else:\n",
    "            return False\n",
    "    return stack == []\n",
    "\n",
    "\n",
    "## Driver code\n",
    "string1 = \"{[]}\"\n",
    "string2 = \"{[[]}\"\n",
    "\n",
    "if isValidParen(string1):\n",
    "    print('String contains a valid parenthesis')\n",
    "else:\n",
    "    print('String contains an invalild parenthesis')"
   ]
  },
  {
   "cell_type": "code",
   "execution_count": 128,
   "id": "e2147988",
   "metadata": {},
   "outputs": [
    {
     "name": "stdout",
     "output_type": "stream",
     "text": [
      "String doesn't have a valid parenthesis\n"
     ]
    }
   ],
   "source": [
    "def isValidParenthesis(string):\n",
    "    open_param = set([\"[\",\"{\",\"(\"])\n",
    "    dictionary = {\"[\":\"]\",\"(\":\")\",\"{\":\"}\"}\n",
    "    stack = []\n",
    "    \n",
    "    for char in string:\n",
    "        if char in open_param:\n",
    "            stack.append(char)\n",
    "        elif stack and char == dictionary[stack[-1]]:\n",
    "            stack.pop()\n",
    "        else:\n",
    "            return False\n",
    "    return stack == []\n",
    "\n",
    "string1 = \"{[]}\"\n",
    "string2 = \"{[[]}\"\n",
    "\n",
    "if isValidParenthesis(string2):\n",
    "    print(\"String have valid parenthesis\")\n",
    "else:\n",
    "    print(\"String doesn't have a valid parenthesis\")"
   ]
  },
  {
   "cell_type": "code",
   "execution_count": null,
   "id": "feb39e99",
   "metadata": {},
   "outputs": [],
   "source": []
  }
 ],
 "metadata": {
  "kernelspec": {
   "display_name": "Python 3 (ipykernel)",
   "language": "python",
   "name": "python3"
  },
  "language_info": {
   "codemirror_mode": {
    "name": "ipython",
    "version": 3
   },
   "file_extension": ".py",
   "mimetype": "text/x-python",
   "name": "python",
   "nbconvert_exporter": "python",
   "pygments_lexer": "ipython3",
   "version": "3.9.7"
  },
  "toc": {
   "base_numbering": 1,
   "nav_menu": {},
   "number_sections": true,
   "sideBar": true,
   "skip_h1_title": false,
   "title_cell": "Table of Contents",
   "title_sidebar": "Contents",
   "toc_cell": false,
   "toc_position": {},
   "toc_section_display": true,
   "toc_window_display": false
  }
 },
 "nbformat": 4,
 "nbformat_minor": 5
}
